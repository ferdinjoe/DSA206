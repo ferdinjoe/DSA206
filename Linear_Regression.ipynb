{
  "nbformat": 4,
  "nbformat_minor": 0,
  "metadata": {
    "colab": {
      "name": "Linear Regression.ipynb",
      "provenance": []
    },
    "kernelspec": {
      "name": "python3",
      "display_name": "Python 3"
    }
  },
  "cells": [
    {
      "cell_type": "code",
      "metadata": {
        "id": "4zDsSQ3Ierul"
      },
      "source": [
        "import numpy as np\r\n",
        "from sklearn.linear_model import LinearRegression"
      ],
      "execution_count": null,
      "outputs": []
    },
    {
      "cell_type": "code",
      "metadata": {
        "id": "oqnr_wS7e2Ol"
      },
      "source": [
        "x = np.array([5, 15, 25, 35, 45, 55]).reshape((-1, 1))\r\n",
        "y = np.array([5, 20, 14, 32, 22, 38])"
      ],
      "execution_count": null,
      "outputs": []
    },
    {
      "cell_type": "code",
      "metadata": {
        "colab": {
          "base_uri": "https://localhost:8080/"
        },
        "id": "KDrV32gIe8Vs",
        "outputId": "c37d274b-a35d-47a6-8b1e-372b3b94a17e"
      },
      "source": [
        "print(x)"
      ],
      "execution_count": null,
      "outputs": [
        {
          "output_type": "stream",
          "text": [
            "[[ 5]\n",
            " [15]\n",
            " [25]\n",
            " [35]\n",
            " [45]\n",
            " [55]]\n"
          ],
          "name": "stdout"
        }
      ]
    },
    {
      "cell_type": "code",
      "metadata": {
        "colab": {
          "base_uri": "https://localhost:8080/"
        },
        "id": "HdOXpBwue-Ul",
        "outputId": "0231d6e5-2b67-4b89-f685-571f0c2d635c"
      },
      "source": [
        "print(y)"
      ],
      "execution_count": null,
      "outputs": [
        {
          "output_type": "stream",
          "text": [
            "[ 5 20 14 32 22 38]\n"
          ],
          "name": "stdout"
        }
      ]
    },
    {
      "cell_type": "code",
      "metadata": {
        "id": "Tp3nWBAofAqV"
      },
      "source": [
        "model = LinearRegression().fit(x, y)"
      ],
      "execution_count": null,
      "outputs": []
    },
    {
      "cell_type": "code",
      "metadata": {
        "colab": {
          "base_uri": "https://localhost:8080/"
        },
        "id": "ktKiKrD3fHR1",
        "outputId": "70367b6d-2fda-4f26-f082-3b152ca8c262"
      },
      "source": [
        "r_sq = model.score(x, y)\r\n",
        "print('coefficient of determination:', r_sq)"
      ],
      "execution_count": null,
      "outputs": [
        {
          "output_type": "stream",
          "text": [
            "coefficient of determination: 0.7158756137479542\n"
          ],
          "name": "stdout"
        }
      ]
    },
    {
      "cell_type": "code",
      "metadata": {
        "colab": {
          "base_uri": "https://localhost:8080/"
        },
        "id": "31AZebwofJvN",
        "outputId": "63276ec1-77ea-43d8-bc37-8cd2ce0c051b"
      },
      "source": [
        "print('intercept:', model.intercept_)\r\n",
        "print('slope:', model.coef_)"
      ],
      "execution_count": null,
      "outputs": [
        {
          "output_type": "stream",
          "text": [
            "intercept: 5.633333333333329\n",
            "slope: [0.54]\n"
          ],
          "name": "stdout"
        }
      ]
    },
    {
      "cell_type": "code",
      "metadata": {
        "colab": {
          "base_uri": "https://localhost:8080/"
        },
        "id": "-KJStFQlfVHE",
        "outputId": "7aba917a-9429-46b2-d171-1da9db961518"
      },
      "source": [
        "new_model = LinearRegression().fit(x, y.reshape((-1, 1)))\r\n",
        "print('intercept:', new_model.intercept_)\r\n",
        "print('slope:', new_model.coef_)"
      ],
      "execution_count": null,
      "outputs": [
        {
          "output_type": "stream",
          "text": [
            "intercept: [5.63333333]\n",
            "slope: [[0.54]]\n"
          ],
          "name": "stdout"
        }
      ]
    },
    {
      "cell_type": "code",
      "metadata": {
        "colab": {
          "base_uri": "https://localhost:8080/"
        },
        "id": "gqgB0rcjfayl",
        "outputId": "ef63d199-e862-41a3-9665-a0e9529fb3b4"
      },
      "source": [
        "y_pred = model.predict(x)\r\n",
        "print('predicted response:', y_pred, sep='\\n')"
      ],
      "execution_count": null,
      "outputs": [
        {
          "output_type": "stream",
          "text": [
            "predicted response:\n",
            "[ 8.33333333 13.73333333 19.13333333 24.53333333 29.93333333 35.33333333]\n"
          ],
          "name": "stdout"
        }
      ]
    },
    {
      "cell_type": "code",
      "metadata": {
        "colab": {
          "base_uri": "https://localhost:8080/"
        },
        "id": "CU_E-SJgfmm2",
        "outputId": "32a82076-1173-459a-fdf2-a2c1cf993781"
      },
      "source": [
        "y_pred = model.intercept_ + model.coef_ * x\r\n",
        "print('predicted response:', y_pred, sep='\\n')"
      ],
      "execution_count": null,
      "outputs": [
        {
          "output_type": "stream",
          "text": [
            "predicted response:\n",
            "[[ 8.33333333]\n",
            " [13.73333333]\n",
            " [19.13333333]\n",
            " [24.53333333]\n",
            " [29.93333333]\n",
            " [35.33333333]]\n"
          ],
          "name": "stdout"
        }
      ]
    },
    {
      "cell_type": "code",
      "metadata": {
        "colab": {
          "base_uri": "https://localhost:8080/"
        },
        "id": "zpjv347bfrVW",
        "outputId": "e4f6e8ef-3bef-4515-c0d5-fac252c02a9b"
      },
      "source": [
        "x_new = np.array([56, 75, 85, 95, 97, 77]).reshape((-1, 1))\r\n",
        "\r\n",
        "print(x_new)"
      ],
      "execution_count": null,
      "outputs": [
        {
          "output_type": "stream",
          "text": [
            "[[56]\n",
            " [75]\n",
            " [85]\n",
            " [95]\n",
            " [97]\n",
            " [77]]\n"
          ],
          "name": "stdout"
        }
      ]
    },
    {
      "cell_type": "code",
      "metadata": {
        "colab": {
          "base_uri": "https://localhost:8080/"
        },
        "id": "W80RFMqkfxSM",
        "outputId": "dee8815a-e8cf-43e0-d9ee-a97173829b3c"
      },
      "source": [
        "y_new = model.predict(x_new)\r\n",
        "print(y_new)"
      ],
      "execution_count": null,
      "outputs": [
        {
          "output_type": "stream",
          "text": [
            "[35.87333333 46.13333333 51.53333333 56.93333333 58.01333333 47.21333333]\n"
          ],
          "name": "stdout"
        }
      ]
    },
    {
      "cell_type": "code",
      "metadata": {
        "id": "3oIwXs6AgUT1"
      },
      "source": [
        "import matplotlib.pyplot as plt"
      ],
      "execution_count": null,
      "outputs": []
    },
    {
      "cell_type": "code",
      "metadata": {
        "colab": {
          "base_uri": "https://localhost:8080/",
          "height": 267
        },
        "id": "0tNpJ8GXgsZO",
        "outputId": "8e721ff1-4280-4218-87f8-379dfb645218"
      },
      "source": [
        "plt.plot(x, y, label = \"actual\")\r\n",
        "plt.plot(x_new, y_new, label = \"Predicted\")\r\n",
        "plt.legend()\r\n",
        "plt.show()"
      ],
      "execution_count": null,
      "outputs": [
        {
          "output_type": "display_data",
          "data": {
            "image/png": "[encoded data removed]",
            "text/plain": [
              "<Figure size 432x288 with 1 Axes>"
            ]
          },
          "metadata": {
            "tags": [],
            "needs_background": "light"
          }
        }
      ]
    },
    {
      "cell_type": "code",
      "metadata": {
        "id": "pSlpRDc6irPe"
      },
      "source": [
        "x = [[0, 1], [5, 1], [15, 2], [25, 5], [35, 11], [45, 15], [55, 34], [60, 35]]\r\n",
        "y = [4, 5, 20, 14, 32, 22, 38, 43]\r\n",
        "x, y = np.array(x), np.array(y)"
      ],
      "execution_count": null,
      "outputs": []
    },
    {
      "cell_type": "code",
      "metadata": {
        "colab": {
          "base_uri": "https://localhost:8080/"
        },
        "id": "uY1eP5OXjWcF",
        "outputId": "a73e5e1b-f3cd-402a-9de1-1524c3ec8d8c"
      },
      "source": [
        "print(x)"
      ],
      "execution_count": null,
      "outputs": [
        {
          "output_type": "stream",
          "text": [
            "[[ 0  1]\n",
            " [ 5  1]\n",
            " [15  2]\n",
            " [25  5]\n",
            " [35 11]\n",
            " [45 15]\n",
            " [55 34]\n",
            " [60 35]]\n"
          ],
          "name": "stdout"
        }
      ]
    },
    {
      "cell_type": "code",
      "metadata": {
        "colab": {
          "base_uri": "https://localhost:8080/"
        },
        "id": "vS-bNS31jozE",
        "outputId": "b84ae85c-c12f-425b-adfb-38795a1afbf3"
      },
      "source": [
        "print(y)"
      ],
      "execution_count": null,
      "outputs": [
        {
          "output_type": "stream",
          "text": [
            "[ 4  5 20 14 32 22 38 43]\n"
          ],
          "name": "stdout"
        }
      ]
    },
    {
      "cell_type": "code",
      "metadata": {
        "id": "AQBZr0Rujs4N"
      },
      "source": [
        "model = LinearRegression().fit(x, y)"
      ],
      "execution_count": null,
      "outputs": []
    },
    {
      "cell_type": "code",
      "metadata": {
        "colab": {
          "base_uri": "https://localhost:8080/"
        },
        "id": "nWJl2p_wj2Dd",
        "outputId": "184a3144-4343-4289-8d40-bd0d6a7539df"
      },
      "source": [
        "r_sq=model.score(x,y)\r\n",
        "print(\"coefficient of determination:\",r_sq)\r\n"
      ],
      "execution_count": null,
      "outputs": [
        {
          "output_type": "stream",
          "text": [
            "coefficient of determination: 0.8615939258756776\n"
          ],
          "name": "stdout"
        }
      ]
    },
    {
      "cell_type": "code",
      "metadata": {
        "colab": {
          "base_uri": "https://localhost:8080/"
        },
        "id": "8yMK-jZnkY-l",
        "outputId": "ed37bc7f-8898-440a-c1d3-37d068847cd5"
      },
      "source": [
        "print(\"intercept:\",model.intercept_)"
      ],
      "execution_count": null,
      "outputs": [
        {
          "output_type": "stream",
          "text": [
            "intercept: 5.52257927519819\n"
          ],
          "name": "stdout"
        }
      ]
    },
    {
      "cell_type": "code",
      "metadata": {
        "colab": {
          "base_uri": "https://localhost:8080/"
        },
        "id": "RjvObKSNkqTF",
        "outputId": "5871cc66-fdb9-4a82-cee4-d43cb5d7268d"
      },
      "source": [
        "print(\"slope:\",model.coef_)"
      ],
      "execution_count": null,
      "outputs": [
        {
          "output_type": "stream",
          "text": [
            "slope: [0.44706965 0.25502548]\n"
          ],
          "name": "stdout"
        }
      ]
    },
    {
      "cell_type": "code",
      "metadata": {
        "id": "3jG9MPUSk9k3"
      },
      "source": [
        "y_pred=model.predict(x)\r\n",
        "y_pred=model.intercept_+np.sum(model.coef_*x,axis=1)\r\n",
        "x_new = [[0, 1], [5, 1], [15, 2], [25, 5], [35, 11], [45, 15], [55, 34], [60, 35]]\r\n",
        "y_new = model.predict(x_new)"
      ],
      "execution_count": null,
      "outputs": []
    },
    {
      "cell_type": "code",
      "metadata": {
        "colab": {
          "base_uri": "https://localhost:8080/",
          "height": 265
        },
        "id": "K4SRc_HXmFSW",
        "outputId": "da8ca118-4788-4b03-d6d7-85517e10ad95"
      },
      "source": [
        "plt.plot(x, y, label = \"actual\")\r\n",
        "plt.plot(x_new, y_new, label = \"Predicted\")\r\n",
        "plt.legend()\r\n",
        "plt.show()"
      ],
      "execution_count": null,
      "outputs": [
        {
          "output_type": "display_data",
          "data": {
            "image/png": "[encoded data removed]",
            "text/plain": [
              "<Figure size 432x288 with 1 Axes>"
            ]
          },
          "metadata": {
            "tags": [],
            "needs_background": "light"
          }
        }
      ]
    },
    {
      "cell_type": "code",
      "metadata": {
        "id": "1y6VYUK3nLY2"
      },
      "source": [
        "from sklearn.preprocessing import PolynomialFeatures"
      ],
      "execution_count": null,
      "outputs": []
    },
    {
      "cell_type": "code",
      "metadata": {
        "id": "EgDPrgSSn7Qe"
      },
      "source": [
        "x = np.array([5, 15, 25, 35, 45, 55]).reshape((-1, 1))\r\n",
        "y = np.array([15, 11, 2, 8, 25, 32])"
      ],
      "execution_count": null,
      "outputs": []
    },
    {
      "cell_type": "code",
      "metadata": {
        "colab": {
          "base_uri": "https://localhost:8080/"
        },
        "id": "WiADr9Q0oFD9",
        "outputId": "85acbb1f-edb1-48ca-b203-53d13a7023d9"
      },
      "source": [
        "print(x)"
      ],
      "execution_count": null,
      "outputs": [
        {
          "output_type": "stream",
          "text": [
            "[[ 5]\n",
            " [15]\n",
            " [25]\n",
            " [35]\n",
            " [45]\n",
            " [55]]\n"
          ],
          "name": "stdout"
        }
      ]
    },
    {
      "cell_type": "code",
      "metadata": {
        "colab": {
          "base_uri": "https://localhost:8080/"
        },
        "id": "2o0aWd5loHMN",
        "outputId": "221713a7-0da8-403b-b703-fa6ed3b05398"
      },
      "source": [
        "print(y)"
      ],
      "execution_count": null,
      "outputs": [
        {
          "output_type": "stream",
          "text": [
            "[15 11  2  8 25 32]\n"
          ],
          "name": "stdout"
        }
      ]
    },
    {
      "cell_type": "code",
      "metadata": {
        "id": "cC7Cwa1MoJZF"
      },
      "source": [
        "transformer = PolynomialFeatures(degree=2, include_bias=False)"
      ],
      "execution_count": null,
      "outputs": []
    },
    {
      "cell_type": "code",
      "metadata": {
        "colab": {
          "base_uri": "https://localhost:8080/"
        },
        "id": "wMfKEWqEoTMl",
        "outputId": "18ac5181-296c-4048-e9bb-b6e6427c42cd"
      },
      "source": [
        "transformer.fit(x)"
      ],
      "execution_count": null,
      "outputs": [
        {
          "output_type": "execute_result",
          "data": {
            "text/plain": [
              "PolynomialFeatures(degree=2, include_bias=False, interaction_only=False,\n",
              "                   order='C')"
            ]
          },
          "metadata": {
            "tags": []
          },
          "execution_count": 54
        }
      ]
    },
    {
      "cell_type": "code",
      "metadata": {
        "id": "LeH5spDGocoW"
      },
      "source": [
        "x_ = transformer.transform(x)"
      ],
      "execution_count": null,
      "outputs": []
    },
    {
      "cell_type": "code",
      "metadata": {
        "id": "GcXBHzEZoeF-"
      },
      "source": [
        "x_ = PolynomialFeatures(degree=2, include_bias=False).fit_transform(x)"
      ],
      "execution_count": null,
      "outputs": []
    },
    {
      "cell_type": "code",
      "metadata": {
        "colab": {
          "base_uri": "https://localhost:8080/"
        },
        "id": "eFSc6a0hopzW",
        "outputId": "e265359f-28a9-4276-da39-ee9bd448cdd0"
      },
      "source": [
        "print(x_)"
      ],
      "execution_count": null,
      "outputs": [
        {
          "output_type": "stream",
          "text": [
            "[[   5.   25.]\n",
            " [  15.  225.]\n",
            " [  25.  625.]\n",
            " [  35. 1225.]\n",
            " [  45. 2025.]\n",
            " [  55. 3025.]]\n"
          ],
          "name": "stdout"
        }
      ]
    },
    {
      "cell_type": "code",
      "metadata": {
        "id": "j26go0RjovA-"
      },
      "source": [
        "model = LinearRegression().fit(x_, y)"
      ],
      "execution_count": null,
      "outputs": []
    },
    {
      "cell_type": "code",
      "metadata": {
        "id": "XOx8nlrZpHq2"
      },
      "source": [
        "x_ = PolynomialFeatures(degree=2, include_bias=True).fit_transform(x)"
      ],
      "execution_count": null,
      "outputs": []
    },
    {
      "cell_type": "code",
      "metadata": {
        "colab": {
          "base_uri": "https://localhost:8080/"
        },
        "id": "4uF6dJYZpJCH",
        "outputId": "fe054f50-676b-44f4-856d-f64bc2348098"
      },
      "source": [
        "print(x_)"
      ],
      "execution_count": null,
      "outputs": [
        {
          "output_type": "stream",
          "text": [
            "[[1.000e+00 5.000e+00 2.500e+01]\n",
            " [1.000e+00 1.500e+01 2.250e+02]\n",
            " [1.000e+00 2.500e+01 6.250e+02]\n",
            " [1.000e+00 3.500e+01 1.225e+03]\n",
            " [1.000e+00 4.500e+01 2.025e+03]\n",
            " [1.000e+00 5.500e+01 3.025e+03]]\n"
          ],
          "name": "stdout"
        }
      ]
    },
    {
      "cell_type": "code",
      "metadata": {
        "id": "LLFFdhUVpYuV"
      },
      "source": [
        "# Step 1: Import packages\r\n",
        "import numpy as np\r\n",
        "from sklearn.linear_model import LinearRegression\r\n",
        "from sklearn.preprocessing import PolynomialFeatures\r\n",
        "\r\n",
        "# Step 2a: Provide data\r\n",
        "x = [[0, 1], [5, 1], [15, 2], [25, 5], [35, 11], [45, 15], [55, 34], [60, 35]]\r\n",
        "y = [4, 5, 20, 14, 32, 22, 38, 43]\r\n",
        "x, y = np.array(x), np.array(y)\r\n",
        "\r\n",
        "# Step 2b: Transform input data\r\n",
        "x_ = PolynomialFeatures(degree=2, include_bias=False).fit_transform(x)\r\n",
        "\r\n",
        "# Step 3: Create a model and fit it\r\n",
        "model = LinearRegression().fit(x_, y)\r\n",
        "\r\n",
        "# Step 4: Get results\r\n",
        "r_sq = model.score(x_, y)\r\n",
        "intercept, coefficients = model.intercept_, model.coef_\r\n",
        "\r\n",
        "# Step 5: Predict\r\n",
        "y_pred = model.predict(x_)"
      ],
      "execution_count": null,
      "outputs": []
    },
    {
      "cell_type": "code",
      "metadata": {
        "colab": {
          "base_uri": "https://localhost:8080/",
          "height": 265
        },
        "id": "SaxoYH3kpygv",
        "outputId": "62ea2a4f-da36-4ee0-c4cf-eb38f74624f8"
      },
      "source": [
        "plt.plot(x, y, label = \"actual\")\r\n",
        "plt.plot(x_, y, label = \"Predicted\")\r\n",
        "plt.legend()\r\n",
        "plt.show()"
      ],
      "execution_count": null,
      "outputs": [
        {
          "output_type": "display_data",
          "data": {
            "image/png": "[encoded data removed]",
            "text/plain": [
              "<Figure size 432x288 with 1 Axes>"
            ]
          },
          "metadata": {
            "tags": [],
            "needs_background": "light"
          }
        }
      ]
    },
    {
      "cell_type": "code",
      "metadata": {
        "id": "Rew2NdhDqJXm"
      },
      "source": [
        "import statsmodels.api as sm"
      ],
      "execution_count": null,
      "outputs": []
    },
    {
      "cell_type": "code",
      "metadata": {
        "id": "25k2crqxqPw-"
      },
      "source": [
        "x = [[0, 1], [5, 1], [15, 2], [25, 5], [35, 11], [45, 15], [55, 34], [60, 35]]\r\n",
        "y = [4, 5, 20, 14, 32, 22, 38, 43]\r\n",
        "x, y = np.array(x), np.array(y)"
      ],
      "execution_count": null,
      "outputs": []
    },
    {
      "cell_type": "code",
      "metadata": {
        "id": "vQo0x8qrq05u"
      },
      "source": [
        "x = sm.add_constant(x)"
      ],
      "execution_count": null,
      "outputs": []
    },
    {
      "cell_type": "code",
      "metadata": {
        "colab": {
          "base_uri": "https://localhost:8080/"
        },
        "id": "GawTTN1_rErG",
        "outputId": "cdef4f0e-7339-4fb5-c82b-66e444222ec2"
      },
      "source": [
        "print(x)"
      ],
      "execution_count": null,
      "outputs": [
        {
          "output_type": "stream",
          "text": [
            "[[ 1.  0.  1.]\n",
            " [ 1.  5.  1.]\n",
            " [ 1. 15.  2.]\n",
            " [ 1. 25.  5.]\n",
            " [ 1. 35. 11.]\n",
            " [ 1. 45. 15.]\n",
            " [ 1. 55. 34.]\n",
            " [ 1. 60. 35.]]\n"
          ],
          "name": "stdout"
        }
      ]
    },
    {
      "cell_type": "code",
      "metadata": {
        "colab": {
          "base_uri": "https://localhost:8080/"
        },
        "id": "ugrqfsZMrGnY",
        "outputId": "6d61e5e1-699d-46df-c341-03e7cf93105b"
      },
      "source": [
        "print(y)"
      ],
      "execution_count": null,
      "outputs": [
        {
          "output_type": "stream",
          "text": [
            "[ 4  5 20 14 32 22 38 43]\n"
          ],
          "name": "stdout"
        }
      ]
    },
    {
      "cell_type": "code",
      "metadata": {
        "id": "9T_aVgZ8rItG"
      },
      "source": [
        "model = sm.OLS(y, x)\r\n",
        "results = model.fit()"
      ],
      "execution_count": null,
      "outputs": []
    },
    {
      "cell_type": "code",
      "metadata": {
        "colab": {
          "base_uri": "https://localhost:8080/"
        },
        "id": "AHio5IP9rQt_",
        "outputId": "507c199e-5763-4654-d9c8-5e9cc1f516d8"
      },
      "source": [
        "print(results.summary())"
      ],
      "execution_count": null,
      "outputs": [
        {
          "output_type": "stream",
          "text": [
            "                            OLS Regression Results                            \n",
            "==============================================================================\n",
            "Dep. Variable:                      y   R-squared:                       0.862\n",
            "Model:                            OLS   Adj. R-squared:                  0.806\n",
            "Method:                 Least Squares   F-statistic:                     15.56\n",
            "Date:                Mon, 01 Feb 2021   Prob (F-statistic):            0.00713\n",
            "Time:                        12:59:54   Log-Likelihood:                -24.316\n",
            "No. Observations:                   8   AIC:                             54.63\n",
            "Df Residuals:                       5   BIC:                             54.87\n",
            "Df Model:                           2                                         \n",
            "Covariance Type:            nonrobust                                         \n",
            "==============================================================================\n",
            "                 coef    std err          t      P>|t|      [0.025      0.975]\n",
            "------------------------------------------------------------------------------\n",
            "const          5.5226      4.431      1.246      0.268      -5.867      16.912\n",
            "x1             0.4471      0.285      1.567      0.178      -0.286       1.180\n",
            "x2             0.2550      0.453      0.563      0.598      -0.910       1.420\n",
            "==============================================================================\n",
            "Omnibus:                        0.561   Durbin-Watson:                   3.268\n",
            "Prob(Omnibus):                  0.755   Jarque-Bera (JB):                0.534\n",
            "Skew:                           0.380   Prob(JB):                        0.766\n",
            "Kurtosis:                       1.987   Cond. No.                         80.1\n",
            "==============================================================================\n",
            "\n",
            "Warnings:\n",
            "[1] Standard Errors assume that the covariance matrix of the errors is correctly specified.\n"
          ],
          "name": "stdout"
        },
        {
          "output_type": "stream",
          "text": [
            "/usr/local/lib/python3.6/dist-packages/scipy/stats/stats.py:1535: UserWarning: kurtosistest only valid for n>=20 ... continuing anyway, n=8\n",
            "  \"anyway, n=%i\" % int(n))\n"
          ],
          "name": "stderr"
        }
      ]
    },
    {
      "cell_type": "code",
      "metadata": {
        "colab": {
          "base_uri": "https://localhost:8080/"
        },
        "id": "2qMpMsgWrbAu",
        "outputId": "489e8d58-b0d0-4c06-ae0d-5036fac558e6"
      },
      "source": [
        "print('coefficient of determination:', results.rsquared)\r\n",
        "print('adjusted coefficient of determination:', results.rsquared_adj)\r\n",
        "print('regression coefficients:', results.params)"
      ],
      "execution_count": null,
      "outputs": [
        {
          "output_type": "stream",
          "text": [
            "coefficient of determination: 0.8615939258756776\n",
            "adjusted coefficient of determination: 0.8062314962259487\n",
            "regression coefficients: [5.52257928 0.44706965 0.25502548]\n"
          ],
          "name": "stdout"
        }
      ]
    },
    {
      "cell_type": "code",
      "metadata": {
        "colab": {
          "base_uri": "https://localhost:8080/"
        },
        "id": "NeH7Z3k3ryyA",
        "outputId": "f0a897d0-ded7-4b89-d2e5-8cd25c021d53"
      },
      "source": [
        "print('predicted response:', results.fittedvalues, sep='\\n')\r\n",
        "print('predicted response:', results.predict(x), sep='\\n')"
      ],
      "execution_count": null,
      "outputs": [
        {
          "output_type": "stream",
          "text": [
            "predicted response:\n",
            "[ 5.77760476  8.012953   12.73867497 17.9744479  23.97529728 29.4660957\n",
            " 38.78227633 41.27265006]\n",
            "predicted response:\n",
            "[ 5.77760476  8.012953   12.73867497 17.9744479  23.97529728 29.4660957\n",
            " 38.78227633 41.27265006]\n"
          ],
          "name": "stdout"
        }
      ]
    },
    {
      "cell_type": "code",
      "metadata": {
        "colab": {
          "base_uri": "https://localhost:8080/"
        },
        "id": "_9iXoeh9sBE3",
        "outputId": "50636ce5-e467-40ff-af97-e094b33125ac"
      },
      "source": [
        "x_new = sm.add_constant(np.arange(10).reshape((-1, 2)))\r\n",
        "print(x_new)\r\n",
        "y_new = results.predict(x_new)\r\n",
        "print(y_new)\r\n"
      ],
      "execution_count": null,
      "outputs": [
        {
          "output_type": "stream",
          "text": [
            "[[1. 0. 1.]\n",
            " [1. 2. 3.]\n",
            " [1. 4. 5.]\n",
            " [1. 6. 7.]\n",
            " [1. 8. 9.]]\n",
            "[ 5.77760476  7.18179502  8.58598528  9.99017554 11.3943658 ]\n"
          ],
          "name": "stdout"
        }
      ]
    },
    {
      "cell_type": "code",
      "metadata": {
        "colab": {
          "base_uri": "https://localhost:8080/",
          "height": 265
        },
        "id": "vBZ6upktsNM2",
        "outputId": "f9abad32-216a-44b3-e716-97489ede84ec"
      },
      "source": [
        "plt.plot(x, y, label = \"actual\")\r\n",
        "plt.plot(x_new, y_new, label = \"Predicted\")\r\n",
        "plt.legend()\r\n",
        "plt.show()"
      ],
      "execution_count": null,
      "outputs": [
        {
          "output_type": "display_data",
          "data": {
            "image/png": "[encoded data removed]",
            "text/plain": [
              "<Figure size 432x288 with 1 Axes>"
            ]
          },
          "metadata": {
            "tags": [],
            "needs_background": "light"
          }
        }
      ]
    }
  ]
}