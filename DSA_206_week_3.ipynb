{
  "nbformat": 4,
  "nbformat_minor": 0,
  "metadata": {
    "colab": {
      "name": "DSA 206 week 3.ipynb",
      "provenance": [],
      "authorship_tag": "ABX9TyObXIiAwNCt93JAAcJNLALC"
    },
    "kernelspec": {
      "name": "python3",
      "display_name": "Python 3"
    }
  },
  "cells": [
    {
      "cell_type": "code",
      "metadata": {
        "id": "_YNf1xy2Uwe4"
      },
      "source": [
        "import pandas as pd\r\n",
        "df = pd.DataFrame({\"A\": [\"foo\", \"foo\", \"foo\", \"foo\", \"foo\",\r\n",
        "                         \"bar\", \"bar\", \"bar\", \"bar\"],\r\n",
        "                  \"B\": [\"one\", \"one\", \"one\", \"two\", \"two\",\r\n",
        "                        \"one\", \"one\", \"two\", \"two\"],\r\n",
        "                   \"C\": [\"small\", \"large\", \"large\", \"small\",\r\n",
        "                         \"small\", \"large\", \"small\", \"small\",\r\n",
        "                         \"large\"],\r\n",
        "                   \"D\": [1, 2, 2, 3, 3, 4, 5, 6, 7]})"
      ],
      "execution_count": null,
      "outputs": []
    },
    {
      "cell_type": "code",
      "metadata": {
        "colab": {
          "base_uri": "https://localhost:8080/",
          "height": 316
        },
        "id": "YBWhsjG1VWyD",
        "outputId": "a6bf773d-a924-48d2-c0e2-db51cfe84c7a"
      },
      "source": [
        "df"
      ],
      "execution_count": null,
      "outputs": [
        {
          "output_type": "execute_result",
          "data": {
            "text/html": [
              "<div>\n",
              "<style scoped>\n",
              "    .dataframe tbody tr th:only-of-type {\n",
              "        vertical-align: middle;\n",
              "    }\n",
              "\n",
              "    .dataframe tbody tr th {\n",
              "        vertical-align: top;\n",
              "    }\n",
              "\n",
              "    .dataframe thead th {\n",
              "        text-align: right;\n",
              "    }\n",
              "</style>\n",
              "<table border=\"1\" class=\"dataframe\">\n",
              "  <thead>\n",
              "    <tr style=\"text-align: right;\">\n",
              "      <th></th>\n",
              "      <th>A</th>\n",
              "      <th>B</th>\n",
              "      <th>C</th>\n",
              "      <th>D</th>\n",
              "    </tr>\n",
              "  </thead>\n",
              "  <tbody>\n",
              "    <tr>\n",
              "      <th>0</th>\n",
              "      <td>foo</td>\n",
              "      <td>one</td>\n",
              "      <td>small</td>\n",
              "      <td>1</td>\n",
              "    </tr>\n",
              "    <tr>\n",
              "      <th>1</th>\n",
              "      <td>foo</td>\n",
              "      <td>one</td>\n",
              "      <td>large</td>\n",
              "      <td>2</td>\n",
              "    </tr>\n",
              "    <tr>\n",
              "      <th>2</th>\n",
              "      <td>foo</td>\n",
              "      <td>one</td>\n",
              "      <td>large</td>\n",
              "      <td>2</td>\n",
              "    </tr>\n",
              "    <tr>\n",
              "      <th>3</th>\n",
              "      <td>foo</td>\n",
              "      <td>two</td>\n",
              "      <td>small</td>\n",
              "      <td>3</td>\n",
              "    </tr>\n",
              "    <tr>\n",
              "      <th>4</th>\n",
              "      <td>foo</td>\n",
              "      <td>two</td>\n",
              "      <td>small</td>\n",
              "      <td>3</td>\n",
              "    </tr>\n",
              "    <tr>\n",
              "      <th>5</th>\n",
              "      <td>bar</td>\n",
              "      <td>one</td>\n",
              "      <td>large</td>\n",
              "      <td>4</td>\n",
              "    </tr>\n",
              "    <tr>\n",
              "      <th>6</th>\n",
              "      <td>bar</td>\n",
              "      <td>one</td>\n",
              "      <td>small</td>\n",
              "      <td>5</td>\n",
              "    </tr>\n",
              "    <tr>\n",
              "      <th>7</th>\n",
              "      <td>bar</td>\n",
              "      <td>two</td>\n",
              "      <td>small</td>\n",
              "      <td>6</td>\n",
              "    </tr>\n",
              "    <tr>\n",
              "      <th>8</th>\n",
              "      <td>bar</td>\n",
              "      <td>two</td>\n",
              "      <td>large</td>\n",
              "      <td>7</td>\n",
              "    </tr>\n",
              "  </tbody>\n",
              "</table>\n",
              "</div>"
            ],
            "text/plain": [
              "     A    B      C  D\n",
              "0  foo  one  small  1\n",
              "1  foo  one  large  2\n",
              "2  foo  one  large  2\n",
              "3  foo  two  small  3\n",
              "4  foo  two  small  3\n",
              "5  bar  one  large  4\n",
              "6  bar  one  small  5\n",
              "7  bar  two  small  6\n",
              "8  bar  two  large  7"
            ]
          },
          "metadata": {
            "tags": []
          },
          "execution_count": 2
        }
      ]
    },
    {
      "cell_type": "code",
      "metadata": {
        "colab": {
          "base_uri": "https://localhost:8080/",
          "height": 196
        },
        "id": "WcxXEL4zVehX",
        "outputId": "aa517474-fea6-435c-a9d2-7ce71e433134"
      },
      "source": [
        "import numpy as np\r\n",
        "\r\n",
        "table = pd.pivot_table(df, values='D', index=['A', 'B'],columns=['C'], aggfunc=np.sum)\r\n",
        "table"
      ],
      "execution_count": null,
      "outputs": [
        {
          "output_type": "execute_result",
          "data": {
            "text/html": [
              "<div>\n",
              "<style scoped>\n",
              "    .dataframe tbody tr th:only-of-type {\n",
              "        vertical-align: middle;\n",
              "    }\n",
              "\n",
              "    .dataframe tbody tr th {\n",
              "        vertical-align: top;\n",
              "    }\n",
              "\n",
              "    .dataframe thead th {\n",
              "        text-align: right;\n",
              "    }\n",
              "</style>\n",
              "<table border=\"1\" class=\"dataframe\">\n",
              "  <thead>\n",
              "    <tr style=\"text-align: right;\">\n",
              "      <th></th>\n",
              "      <th>C</th>\n",
              "      <th>large</th>\n",
              "      <th>small</th>\n",
              "    </tr>\n",
              "    <tr>\n",
              "      <th>A</th>\n",
              "      <th>B</th>\n",
              "      <th></th>\n",
              "      <th></th>\n",
              "    </tr>\n",
              "  </thead>\n",
              "  <tbody>\n",
              "    <tr>\n",
              "      <th rowspan=\"2\" valign=\"top\">bar</th>\n",
              "      <th>one</th>\n",
              "      <td>4.0</td>\n",
              "      <td>5.0</td>\n",
              "    </tr>\n",
              "    <tr>\n",
              "      <th>two</th>\n",
              "      <td>7.0</td>\n",
              "      <td>6.0</td>\n",
              "    </tr>\n",
              "    <tr>\n",
              "      <th rowspan=\"2\" valign=\"top\">foo</th>\n",
              "      <th>one</th>\n",
              "      <td>4.0</td>\n",
              "      <td>1.0</td>\n",
              "    </tr>\n",
              "    <tr>\n",
              "      <th>two</th>\n",
              "      <td>NaN</td>\n",
              "      <td>6.0</td>\n",
              "    </tr>\n",
              "  </tbody>\n",
              "</table>\n",
              "</div>"
            ],
            "text/plain": [
              "C        large  small\n",
              "A   B                \n",
              "bar one    4.0    5.0\n",
              "    two    7.0    6.0\n",
              "foo one    4.0    1.0\n",
              "    two    NaN    6.0"
            ]
          },
          "metadata": {
            "tags": []
          },
          "execution_count": 9
        }
      ]
    },
    {
      "cell_type": "code",
      "metadata": {
        "colab": {
          "base_uri": "https://localhost:8080/",
          "height": 196
        },
        "id": "pVQQ57esWbTL",
        "outputId": "de175b7c-666d-4b83-8376-c862a0f92c31"
      },
      "source": [
        "table = pd.pivot_table(df, values='D', index=['A', 'B'],columns=['C'], aggfunc=np.median)\r\n",
        "table"
      ],
      "execution_count": null,
      "outputs": [
        {
          "output_type": "execute_result",
          "data": {
            "text/html": [
              "<div>\n",
              "<style scoped>\n",
              "    .dataframe tbody tr th:only-of-type {\n",
              "        vertical-align: middle;\n",
              "    }\n",
              "\n",
              "    .dataframe tbody tr th {\n",
              "        vertical-align: top;\n",
              "    }\n",
              "\n",
              "    .dataframe thead th {\n",
              "        text-align: right;\n",
              "    }\n",
              "</style>\n",
              "<table border=\"1\" class=\"dataframe\">\n",
              "  <thead>\n",
              "    <tr style=\"text-align: right;\">\n",
              "      <th></th>\n",
              "      <th>C</th>\n",
              "      <th>large</th>\n",
              "      <th>small</th>\n",
              "    </tr>\n",
              "    <tr>\n",
              "      <th>A</th>\n",
              "      <th>B</th>\n",
              "      <th></th>\n",
              "      <th></th>\n",
              "    </tr>\n",
              "  </thead>\n",
              "  <tbody>\n",
              "    <tr>\n",
              "      <th rowspan=\"2\" valign=\"top\">bar</th>\n",
              "      <th>one</th>\n",
              "      <td>4.0</td>\n",
              "      <td>5.0</td>\n",
              "    </tr>\n",
              "    <tr>\n",
              "      <th>two</th>\n",
              "      <td>7.0</td>\n",
              "      <td>6.0</td>\n",
              "    </tr>\n",
              "    <tr>\n",
              "      <th rowspan=\"2\" valign=\"top\">foo</th>\n",
              "      <th>one</th>\n",
              "      <td>2.0</td>\n",
              "      <td>1.0</td>\n",
              "    </tr>\n",
              "    <tr>\n",
              "      <th>two</th>\n",
              "      <td>NaN</td>\n",
              "      <td>3.0</td>\n",
              "    </tr>\n",
              "  </tbody>\n",
              "</table>\n",
              "</div>"
            ],
            "text/plain": [
              "C        large  small\n",
              "A   B                \n",
              "bar one    4.0    5.0\n",
              "    two    7.0    6.0\n",
              "foo one    2.0    1.0\n",
              "    two    NaN    3.0"
            ]
          },
          "metadata": {
            "tags": []
          },
          "execution_count": 11
        }
      ]
    },
    {
      "cell_type": "code",
      "metadata": {
        "id": "u9rnQbqaT3Ea"
      },
      "source": [
        "import pandas as pd\r\n",
        "import numpy as np\r\n",
        "import seaborn as sns"
      ],
      "execution_count": null,
      "outputs": []
    },
    {
      "cell_type": "code",
      "metadata": {
        "id": "8JSyg4ADT8y7"
      },
      "source": [
        "sns.set_style('whitegrid')"
      ],
      "execution_count": null,
      "outputs": []
    },
    {
      "cell_type": "code",
      "metadata": {
        "id": "cHxxzStDT_uL"
      },
      "source": [
        "raw_df = pd.read_excel('https://github.com/chris1610/pbpython/blob/master/data/2018_Sales_Total_v2.xlsx?raw=true')"
      ],
      "execution_count": null,
      "outputs": []
    },
    {
      "cell_type": "code",
      "metadata": {
        "id": "RuVikGpiUBlL"
      },
      "source": [
        "df = raw_df.groupby(['account number', 'name'])['ext price'].sum().reset_index()"
      ],
      "execution_count": null,
      "outputs": []
    },
    {
      "cell_type": "code",
      "metadata": {
        "colab": {
          "base_uri": "https://localhost:8080/",
          "height": 204
        },
        "id": "qXshYtcIUFcS",
        "outputId": "24716044-579c-4516-c399-4608a3c23543"
      },
      "source": [
        "raw_df.head()"
      ],
      "execution_count": null,
      "outputs": [
        {
          "output_type": "execute_result",
          "data": {
            "text/html": [
              "<div>\n",
              "<style scoped>\n",
              "    .dataframe tbody tr th:only-of-type {\n",
              "        vertical-align: middle;\n",
              "    }\n",
              "\n",
              "    .dataframe tbody tr th {\n",
              "        vertical-align: top;\n",
              "    }\n",
              "\n",
              "    .dataframe thead th {\n",
              "        text-align: right;\n",
              "    }\n",
              "</style>\n",
              "<table border=\"1\" class=\"dataframe\">\n",
              "  <thead>\n",
              "    <tr style=\"text-align: right;\">\n",
              "      <th></th>\n",
              "      <th>account number</th>\n",
              "      <th>name</th>\n",
              "      <th>sku</th>\n",
              "      <th>quantity</th>\n",
              "      <th>unit price</th>\n",
              "      <th>ext price</th>\n",
              "      <th>date</th>\n",
              "    </tr>\n",
              "  </thead>\n",
              "  <tbody>\n",
              "    <tr>\n",
              "      <th>0</th>\n",
              "      <td>740150</td>\n",
              "      <td>Barton LLC</td>\n",
              "      <td>B1-20000</td>\n",
              "      <td>39</td>\n",
              "      <td>86.69</td>\n",
              "      <td>3380.91</td>\n",
              "      <td>2018-01-01 07:21:51</td>\n",
              "    </tr>\n",
              "    <tr>\n",
              "      <th>1</th>\n",
              "      <td>714466</td>\n",
              "      <td>Trantow-Barrows</td>\n",
              "      <td>S2-77896</td>\n",
              "      <td>-1</td>\n",
              "      <td>63.16</td>\n",
              "      <td>-63.16</td>\n",
              "      <td>2018-01-01 10:00:47</td>\n",
              "    </tr>\n",
              "    <tr>\n",
              "      <th>2</th>\n",
              "      <td>218895</td>\n",
              "      <td>Kulas Inc</td>\n",
              "      <td>B1-69924</td>\n",
              "      <td>23</td>\n",
              "      <td>90.70</td>\n",
              "      <td>2086.10</td>\n",
              "      <td>2018-01-01 13:24:58</td>\n",
              "    </tr>\n",
              "    <tr>\n",
              "      <th>3</th>\n",
              "      <td>307599</td>\n",
              "      <td>Kassulke, Ondricka and Metz</td>\n",
              "      <td>S1-65481</td>\n",
              "      <td>41</td>\n",
              "      <td>21.05</td>\n",
              "      <td>863.05</td>\n",
              "      <td>2018-01-01 15:05:22</td>\n",
              "    </tr>\n",
              "    <tr>\n",
              "      <th>4</th>\n",
              "      <td>412290</td>\n",
              "      <td>Jerde-Hilpert</td>\n",
              "      <td>S2-34077</td>\n",
              "      <td>6</td>\n",
              "      <td>83.21</td>\n",
              "      <td>499.26</td>\n",
              "      <td>2018-01-01 23:26:55</td>\n",
              "    </tr>\n",
              "  </tbody>\n",
              "</table>\n",
              "</div>"
            ],
            "text/plain": [
              "   account number                         name  ... ext price                date\n",
              "0          740150                   Barton LLC  ...   3380.91 2018-01-01 07:21:51\n",
              "1          714466              Trantow-Barrows  ...    -63.16 2018-01-01 10:00:47\n",
              "2          218895                    Kulas Inc  ...   2086.10 2018-01-01 13:24:58\n",
              "3          307599  Kassulke, Ondricka and Metz  ...    863.05 2018-01-01 15:05:22\n",
              "4          412290                Jerde-Hilpert  ...    499.26 2018-01-01 23:26:55\n",
              "\n",
              "[5 rows x 7 columns]"
            ]
          },
          "metadata": {
            "tags": []
          },
          "execution_count": 6
        }
      ]
    },
    {
      "cell_type": "code",
      "metadata": {
        "colab": {
          "base_uri": "https://localhost:8080/",
          "height": 204
        },
        "id": "xN509WHcUN0r",
        "outputId": "e6b390e0-a52d-4f68-fc43-3e447300f597"
      },
      "source": [
        "df.head()"
      ],
      "execution_count": null,
      "outputs": [
        {
          "output_type": "execute_result",
          "data": {
            "text/html": [
              "<div>\n",
              "<style scoped>\n",
              "    .dataframe tbody tr th:only-of-type {\n",
              "        vertical-align: middle;\n",
              "    }\n",
              "\n",
              "    .dataframe tbody tr th {\n",
              "        vertical-align: top;\n",
              "    }\n",
              "\n",
              "    .dataframe thead th {\n",
              "        text-align: right;\n",
              "    }\n",
              "</style>\n",
              "<table border=\"1\" class=\"dataframe\">\n",
              "  <thead>\n",
              "    <tr style=\"text-align: right;\">\n",
              "      <th></th>\n",
              "      <th>account number</th>\n",
              "      <th>name</th>\n",
              "      <th>ext price</th>\n",
              "    </tr>\n",
              "  </thead>\n",
              "  <tbody>\n",
              "    <tr>\n",
              "      <th>0</th>\n",
              "      <td>141962</td>\n",
              "      <td>Herman LLC</td>\n",
              "      <td>63626.03</td>\n",
              "    </tr>\n",
              "    <tr>\n",
              "      <th>1</th>\n",
              "      <td>146832</td>\n",
              "      <td>Kiehn-Spinka</td>\n",
              "      <td>99608.77</td>\n",
              "    </tr>\n",
              "    <tr>\n",
              "      <th>2</th>\n",
              "      <td>163416</td>\n",
              "      <td>Purdy-Kunde</td>\n",
              "      <td>77898.21</td>\n",
              "    </tr>\n",
              "    <tr>\n",
              "      <th>3</th>\n",
              "      <td>218895</td>\n",
              "      <td>Kulas Inc</td>\n",
              "      <td>137351.96</td>\n",
              "    </tr>\n",
              "    <tr>\n",
              "      <th>4</th>\n",
              "      <td>239344</td>\n",
              "      <td>Stokes LLC</td>\n",
              "      <td>91535.92</td>\n",
              "    </tr>\n",
              "  </tbody>\n",
              "</table>\n",
              "</div>"
            ],
            "text/plain": [
              "   account number          name  ext price\n",
              "0          141962    Herman LLC   63626.03\n",
              "1          146832  Kiehn-Spinka   99608.77\n",
              "2          163416   Purdy-Kunde   77898.21\n",
              "3          218895     Kulas Inc  137351.96\n",
              "4          239344    Stokes LLC   91535.92"
            ]
          },
          "metadata": {
            "tags": []
          },
          "execution_count": 7
        }
      ]
    },
    {
      "cell_type": "code",
      "metadata": {
        "colab": {
          "base_uri": "https://localhost:8080/",
          "height": 282
        },
        "id": "X1N_PnmXUW1c",
        "outputId": "9eec8324-a5c3-4c79-e8d0-33f0ede2b1ef"
      },
      "source": [
        "df['ext price'].plot(kind='hist')"
      ],
      "execution_count": null,
      "outputs": [
        {
          "output_type": "execute_result",
          "data": {
            "text/plain": [
              "<matplotlib.axes._subplots.AxesSubplot at 0x7fcf116e5ef0>"
            ]
          },
          "metadata": {
            "tags": []
          },
          "execution_count": 8
        },
        {
          "output_type": "display_data",
          "data": {
            "image/png": "[encoded data removed]",
            "text/plain": [
              "<Figure size 432x288 with 1 Axes>"
            ]
          },
          "metadata": {
            "tags": []
          }
        }
      ]
    },
    {
      "cell_type": "code",
      "metadata": {
        "colab": {
          "base_uri": "https://localhost:8080/",
          "height": 282
        },
        "id": "V-Tam1uwUhHs",
        "outputId": "398e0a45-8281-47cc-9012-33b114874248"
      },
      "source": [
        "raw_df['unit price'].plot(kind='hist')"
      ],
      "execution_count": null,
      "outputs": [
        {
          "output_type": "execute_result",
          "data": {
            "text/plain": [
              "<matplotlib.axes._subplots.AxesSubplot at 0x7fcf115ddb38>"
            ]
          },
          "metadata": {
            "tags": []
          },
          "execution_count": 10
        },
        {
          "output_type": "display_data",
          "data": {
            "image/png": "[encoded data removed]",
            "text/plain": [
              "<Figure size 432x288 with 1 Axes>"
            ]
          },
          "metadata": {
            "tags": []
          }
        }
      ]
    },
    {
      "cell_type": "code",
      "metadata": {
        "colab": {
          "base_uri": "https://localhost:8080/"
        },
        "id": "W9HOyDdlUycV",
        "outputId": "d148c6ff-40be-4152-c392-809dcc157393"
      },
      "source": [
        "pd.qcut(df['ext price'], q=4)"
      ],
      "execution_count": null,
      "outputs": [
        {
          "output_type": "execute_result",
          "data": {
            "text/plain": [
              "0     (55733.049000000006, 89137.708]\n",
              "1             (89137.708, 100271.535]\n",
              "2     (55733.049000000006, 89137.708]\n",
              "3              (110132.552, 184793.7]\n",
              "4             (89137.708, 100271.535]\n",
              "5             (89137.708, 100271.535]\n",
              "6     (55733.049000000006, 89137.708]\n",
              "7            (100271.535, 110132.552]\n",
              "8              (110132.552, 184793.7]\n",
              "9              (110132.552, 184793.7]\n",
              "10            (89137.708, 100271.535]\n",
              "11    (55733.049000000006, 89137.708]\n",
              "12    (55733.049000000006, 89137.708]\n",
              "13            (89137.708, 100271.535]\n",
              "14           (100271.535, 110132.552]\n",
              "15             (110132.552, 184793.7]\n",
              "16           (100271.535, 110132.552]\n",
              "17             (110132.552, 184793.7]\n",
              "18           (100271.535, 110132.552]\n",
              "19           (100271.535, 110132.552]\n",
              "Name: ext price, dtype: category\n",
              "Categories (4, interval[float64]): [(55733.049000000006, 89137.708] < (89137.708, 100271.535] <\n",
              "                                    (100271.535, 110132.552] < (110132.552, 184793.7]]"
            ]
          },
          "metadata": {
            "tags": []
          },
          "execution_count": 11
        }
      ]
    },
    {
      "cell_type": "code",
      "metadata": {
        "colab": {
          "base_uri": "https://localhost:8080/"
        },
        "id": "_Ne2u1NGU0QX",
        "outputId": "dfa8709e-ee61-4ad7-9f3a-f8ba45348f0b"
      },
      "source": [
        "pd.qcut(df['ext price'], q=6)"
      ],
      "execution_count": null,
      "outputs": [
        {
          "output_type": "execute_result",
          "data": {
            "text/plain": [
              "0     (55733.049000000006, 86600.422]\n",
              "1             (91241.493, 100271.535]\n",
              "2     (55733.049000000006, 86600.422]\n",
              "3              (112528.643, 184793.7]\n",
              "4             (91241.493, 100271.535]\n",
              "5              (86600.422, 91241.493]\n",
              "6     (55733.049000000006, 86600.422]\n",
              "7             (104178.58, 112528.643]\n",
              "8              (112528.643, 184793.7]\n",
              "9              (112528.643, 184793.7]\n",
              "10            (91241.493, 100271.535]\n",
              "11    (55733.049000000006, 86600.422]\n",
              "12             (86600.422, 91241.493]\n",
              "13             (86600.422, 91241.493]\n",
              "14            (100271.535, 104178.58]\n",
              "15             (112528.643, 184793.7]\n",
              "16            (100271.535, 104178.58]\n",
              "17            (104178.58, 112528.643]\n",
              "18            (104178.58, 112528.643]\n",
              "19            (100271.535, 104178.58]\n",
              "Name: ext price, dtype: category\n",
              "Categories (6, interval[float64]): [(55733.049000000006, 86600.422] < (86600.422, 91241.493] <\n",
              "                                    (91241.493, 100271.535] < (100271.535, 104178.58] <\n",
              "                                    (104178.58, 112528.643] < (112528.643, 184793.7]]"
            ]
          },
          "metadata": {
            "tags": []
          },
          "execution_count": 12
        }
      ]
    },
    {
      "cell_type": "code",
      "metadata": {
        "colab": {
          "base_uri": "https://localhost:8080/"
        },
        "id": "3LgJtBNnU-dW",
        "outputId": "68f54843-7249-4dd0-866a-7ce3d4e30cc9"
      },
      "source": [
        "pd.qcut(df['ext price'], q=50)"
      ],
      "execution_count": null,
      "outputs": [
        {
          "output_type": "execute_result",
          "data": {
            "text/plain": [
              "0              (61731.715, 65624.135]\n",
              "1              (99404.465, 99767.834]\n",
              "2              (76470.992, 80293.011]\n",
              "3            (135396.079, 148737.978]\n",
              "4              (91465.258, 93139.073]\n",
              "5              (89591.308, 90169.664]\n",
              "6              (83543.098, 86486.914]\n",
              "7             (104375.435, 105937.87]\n",
              "8            (112576.361, 116260.013]\n",
              "9              (166765.839, 184793.7]\n",
              "10             (98677.239, 99105.864]\n",
              "11    (55733.049000000006, 58732.382]\n",
              "12             (87167.958, 87776.907]\n",
              "13             (90686.361, 91129.611]\n",
              "14           (100775.236, 101619.475]\n",
              "15           (120360.194, 124778.438]\n",
              "16            (103640.531, 103784.87]\n",
              "17           (111714.992, 112290.054]\n",
              "18           (107838.212, 109605.073]\n",
              "19           (102620.886, 103571.409]\n",
              "Name: ext price, dtype: category\n",
              "Categories (50, interval[float64]): [(55733.049000000006, 58732.382] < (58732.382, 61731.715] <\n",
              "                                     (61731.715, 65624.135] < (65624.135, 71047.564] < ... <\n",
              "                                     (130087.258, 135396.079] < (135396.079, 148737.978] <\n",
              "                                     (148737.978, 166765.839] < (166765.839, 184793.7]]"
            ]
          },
          "metadata": {
            "tags": []
          },
          "execution_count": 13
        }
      ]
    },
    {
      "cell_type": "code",
      "metadata": {
        "id": "mKMGPlBdV4uo"
      },
      "source": [
        "df['quantile_ex_1'] = pd.qcut(df['ext price'], q=4)\r\n",
        "df['quantile_ex_2'] = pd.qcut(df['ext price'], q=10, precision=0)"
      ],
      "execution_count": null,
      "outputs": []
    },
    {
      "cell_type": "code",
      "metadata": {
        "colab": {
          "base_uri": "https://localhost:8080/",
          "height": 204
        },
        "id": "v_nSu4JDV6lv",
        "outputId": "f98e63d2-8eb1-4aa4-eded-bb533f88bf4a"
      },
      "source": [
        "df.head()"
      ],
      "execution_count": null,
      "outputs": [
        {
          "output_type": "execute_result",
          "data": {
            "text/html": [
              "<div>\n",
              "<style scoped>\n",
              "    .dataframe tbody tr th:only-of-type {\n",
              "        vertical-align: middle;\n",
              "    }\n",
              "\n",
              "    .dataframe tbody tr th {\n",
              "        vertical-align: top;\n",
              "    }\n",
              "\n",
              "    .dataframe thead th {\n",
              "        text-align: right;\n",
              "    }\n",
              "</style>\n",
              "<table border=\"1\" class=\"dataframe\">\n",
              "  <thead>\n",
              "    <tr style=\"text-align: right;\">\n",
              "      <th></th>\n",
              "      <th>account number</th>\n",
              "      <th>name</th>\n",
              "      <th>ext price</th>\n",
              "      <th>quantile_ex_1</th>\n",
              "      <th>quantile_ex_2</th>\n",
              "    </tr>\n",
              "  </thead>\n",
              "  <tbody>\n",
              "    <tr>\n",
              "      <th>0</th>\n",
              "      <td>141962</td>\n",
              "      <td>Herman LLC</td>\n",
              "      <td>63626.03</td>\n",
              "      <td>(55733.049000000006, 89137.708]</td>\n",
              "      <td>(55732.0, 76471.0]</td>\n",
              "    </tr>\n",
              "    <tr>\n",
              "      <th>1</th>\n",
              "      <td>146832</td>\n",
              "      <td>Kiehn-Spinka</td>\n",
              "      <td>99608.77</td>\n",
              "      <td>(89137.708, 100271.535]</td>\n",
              "      <td>(95908.0, 100272.0]</td>\n",
              "    </tr>\n",
              "    <tr>\n",
              "      <th>2</th>\n",
              "      <td>163416</td>\n",
              "      <td>Purdy-Kunde</td>\n",
              "      <td>77898.21</td>\n",
              "      <td>(55733.049000000006, 89137.708]</td>\n",
              "      <td>(76471.0, 87168.0]</td>\n",
              "    </tr>\n",
              "    <tr>\n",
              "      <th>3</th>\n",
              "      <td>218895</td>\n",
              "      <td>Kulas Inc</td>\n",
              "      <td>137351.96</td>\n",
              "      <td>(110132.552, 184793.7]</td>\n",
              "      <td>(124778.0, 184794.0]</td>\n",
              "    </tr>\n",
              "    <tr>\n",
              "      <th>4</th>\n",
              "      <td>239344</td>\n",
              "      <td>Stokes LLC</td>\n",
              "      <td>91535.92</td>\n",
              "      <td>(89137.708, 100271.535]</td>\n",
              "      <td>(90686.0, 95908.0]</td>\n",
              "    </tr>\n",
              "  </tbody>\n",
              "</table>\n",
              "</div>"
            ],
            "text/plain": [
              "   account number  ...         quantile_ex_2\n",
              "0          141962  ...    (55732.0, 76471.0]\n",
              "1          146832  ...   (95908.0, 100272.0]\n",
              "2          163416  ...    (76471.0, 87168.0]\n",
              "3          218895  ...  (124778.0, 184794.0]\n",
              "4          239344  ...    (90686.0, 95908.0]\n",
              "\n",
              "[5 rows x 5 columns]"
            ]
          },
          "metadata": {
            "tags": []
          },
          "execution_count": 15
        }
      ]
    },
    {
      "cell_type": "code",
      "metadata": {
        "colab": {
          "base_uri": "https://localhost:8080/"
        },
        "id": "JC1Fh3ycV-Y5",
        "outputId": "4bf28fe2-a510-44d3-e46a-fb6c647b3b0d"
      },
      "source": [
        "df['quantile_ex_1'].value_counts()"
      ],
      "execution_count": null,
      "outputs": [
        {
          "output_type": "execute_result",
          "data": {
            "text/plain": [
              "(110132.552, 184793.7]             5\n",
              "(100271.535, 110132.552]           5\n",
              "(89137.708, 100271.535]            5\n",
              "(55733.049000000006, 89137.708]    5\n",
              "Name: quantile_ex_1, dtype: int64"
            ]
          },
          "metadata": {
            "tags": []
          },
          "execution_count": 16
        }
      ]
    },
    {
      "cell_type": "code",
      "metadata": {
        "colab": {
          "base_uri": "https://localhost:8080/"
        },
        "id": "cUwvGo36WDtw",
        "outputId": "ace77982-9c25-4705-8e90-0e1757d63033"
      },
      "source": [
        "df['quantile_ex_2'].value_counts()"
      ],
      "execution_count": null,
      "outputs": [
        {
          "output_type": "execute_result",
          "data": {
            "text/plain": [
              "(124778.0, 184794.0]    2\n",
              "(112290.0, 124778.0]    2\n",
              "(105938.0, 112290.0]    2\n",
              "(103606.0, 105938.0]    2\n",
              "(100272.0, 103606.0]    2\n",
              "(95908.0, 100272.0]     2\n",
              "(90686.0, 95908.0]      2\n",
              "(87168.0, 90686.0]      2\n",
              "(76471.0, 87168.0]      2\n",
              "(55732.0, 76471.0]      2\n",
              "Name: quantile_ex_2, dtype: int64"
            ]
          },
          "metadata": {
            "tags": []
          },
          "execution_count": 17
        }
      ]
    },
    {
      "cell_type": "code",
      "metadata": {
        "id": "staEBekwWMVa",
        "colab": {
          "base_uri": "https://localhost:8080/",
          "height": 204
        },
        "outputId": "54c6b753-6cb2-459e-f1d8-1b4cf35247aa"
      },
      "source": [
        "bin_labels_5 = ['Bronze', 'Silver', 'Gold', 'Platinum', 'Diamond']\r\n",
        "df['quantile_ex_3'] = pd.qcut(df['ext price'],q=[0, .2, .4, .6, .8, 1],labels=bin_labels_5)\r\n",
        "df.head()"
      ],
      "execution_count": null,
      "outputs": [
        {
          "output_type": "execute_result",
          "data": {
            "text/html": [
              "<div>\n",
              "<style scoped>\n",
              "    .dataframe tbody tr th:only-of-type {\n",
              "        vertical-align: middle;\n",
              "    }\n",
              "\n",
              "    .dataframe tbody tr th {\n",
              "        vertical-align: top;\n",
              "    }\n",
              "\n",
              "    .dataframe thead th {\n",
              "        text-align: right;\n",
              "    }\n",
              "</style>\n",
              "<table border=\"1\" class=\"dataframe\">\n",
              "  <thead>\n",
              "    <tr style=\"text-align: right;\">\n",
              "      <th></th>\n",
              "      <th>account number</th>\n",
              "      <th>name</th>\n",
              "      <th>ext price</th>\n",
              "      <th>quantile_ex_1</th>\n",
              "      <th>quantile_ex_2</th>\n",
              "      <th>quantile_ex_3</th>\n",
              "    </tr>\n",
              "  </thead>\n",
              "  <tbody>\n",
              "    <tr>\n",
              "      <th>0</th>\n",
              "      <td>141962</td>\n",
              "      <td>Herman LLC</td>\n",
              "      <td>63626.03</td>\n",
              "      <td>(55733.049000000006, 89137.708]</td>\n",
              "      <td>(55732.0, 76471.0]</td>\n",
              "      <td>Bronze</td>\n",
              "    </tr>\n",
              "    <tr>\n",
              "      <th>1</th>\n",
              "      <td>146832</td>\n",
              "      <td>Kiehn-Spinka</td>\n",
              "      <td>99608.77</td>\n",
              "      <td>(89137.708, 100271.535]</td>\n",
              "      <td>(95908.0, 100272.0]</td>\n",
              "      <td>Gold</td>\n",
              "    </tr>\n",
              "    <tr>\n",
              "      <th>2</th>\n",
              "      <td>163416</td>\n",
              "      <td>Purdy-Kunde</td>\n",
              "      <td>77898.21</td>\n",
              "      <td>(55733.049000000006, 89137.708]</td>\n",
              "      <td>(76471.0, 87168.0]</td>\n",
              "      <td>Bronze</td>\n",
              "    </tr>\n",
              "    <tr>\n",
              "      <th>3</th>\n",
              "      <td>218895</td>\n",
              "      <td>Kulas Inc</td>\n",
              "      <td>137351.96</td>\n",
              "      <td>(110132.552, 184793.7]</td>\n",
              "      <td>(124778.0, 184794.0]</td>\n",
              "      <td>Diamond</td>\n",
              "    </tr>\n",
              "    <tr>\n",
              "      <th>4</th>\n",
              "      <td>239344</td>\n",
              "      <td>Stokes LLC</td>\n",
              "      <td>91535.92</td>\n",
              "      <td>(89137.708, 100271.535]</td>\n",
              "      <td>(90686.0, 95908.0]</td>\n",
              "      <td>Silver</td>\n",
              "    </tr>\n",
              "  </tbody>\n",
              "</table>\n",
              "</div>"
            ],
            "text/plain": [
              "   account number          name  ...         quantile_ex_2 quantile_ex_3\n",
              "0          141962    Herman LLC  ...    (55732.0, 76471.0]        Bronze\n",
              "1          146832  Kiehn-Spinka  ...   (95908.0, 100272.0]          Gold\n",
              "2          163416   Purdy-Kunde  ...    (76471.0, 87168.0]        Bronze\n",
              "3          218895     Kulas Inc  ...  (124778.0, 184794.0]       Diamond\n",
              "4          239344    Stokes LLC  ...    (90686.0, 95908.0]        Silver\n",
              "\n",
              "[5 rows x 6 columns]"
            ]
          },
          "metadata": {
            "tags": []
          },
          "execution_count": 18
        }
      ]
    }
  ]
}