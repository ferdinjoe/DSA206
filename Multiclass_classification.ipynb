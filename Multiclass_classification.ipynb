{
  "nbformat": 4,
  "nbformat_minor": 0,
  "metadata": {
    "colab": {
      "name": "Multiclass classification.ipynb",
      "provenance": [],
      "authorship_tag": "ABX9TyPEv68SNl6HYj9ojmMA5mVn",
      "include_colab_link": true
    },
    "kernelspec": {
      "name": "python3",
      "display_name": "Python 3"
    }
  },
  "cells": [
    {
      "cell_type": "markdown",
      "metadata": {
        "id": "view-in-github",
        "colab_type": "text"
      },
      "source": [
        "<a href=\"https://colab.research.google.com/github/ferdinjoe/DSA206/blob/main/Multiclass_classification.ipynb\" target=\"_parent\"><img src=\"https://colab.research.google.com/assets/colab-badge.svg\" alt=\"Open In Colab\"/></a>"
      ]
    },
    {
      "cell_type": "markdown",
      "metadata": {
        "id": "Nd3YtIZDPP99"
      },
      "source": [
        "**Multiclass classification** is a popular problem in supervised machine learning.\r\n",
        "\r\n",
        "**Problem** – Given a dataset of m training examples, each of which contains information in the form of various features and a label. Each label corresponds to a class, to which the training example belongs to. In multiclass classification, we have a finite set of classes. Each training example also has n features.\r\n",
        "\r\n",
        "For example, in the case of identification of different types of fruits, “Shape”, “Color”, “Radius” can be features and “Apple”, “Orange”, “Banana” can be different class labels.\r\n",
        "\r\n",
        "In a multiclass classification, we train a classifier using our training data, and use this classifier for classifying new examples."
      ]
    },
    {
      "cell_type": "markdown",
      "metadata": {
        "id": "-dN4HOW8PNqG"
      },
      "source": [
        "**Approach –**\r\n",
        "\r\n",
        "Load dataset from source.\r\n",
        "1. Split the dataset into “training” and “test” data.\r\n",
        "2. Train Decision tree, SVM, and KNN classifiers on the training data.\r\n",
        "3. Use the above classifiers to predict labels for the test data.\r\n",
        "4. Measure accuracy and visualise classification.\r\n",
        "\r\n"
      ]
    },
    {
      "cell_type": "markdown",
      "metadata": {
        "id": "eFa8KqMbPqgN"
      },
      "source": [
        "Classifiers\r\n",
        "1. Decision Tree Classifier\r\n",
        "2. Support Vector Machine\r\n",
        "3. KNN (K - Nearest Neighbor) Classifier\r\n",
        "4. Naive Bayes Classifier"
      ]
    },
    {
      "cell_type": "markdown",
      "metadata": {
        "id": "LOk3lxZ9QDa9"
      },
      "source": [
        "Decision Tree Classifier\r\n",
        "- Decision tree classifier is a systematic approach for multiclass classification. \r\n",
        "- It poses a set of questions to the dataset (related to its attributes/features). \r\n",
        "- The decision tree classification algorithm can be visualized on a binary tree. \r\n",
        "- On the root and each of the internal nodes, a question is posed and the data on that node is further split into separate records that have different characteristics. \r\n",
        "- The leaves of the tree refer to the classes in which the dataset is split. \r\n",
        "- In the following code snippet, we train a decision tree classifier in scikit-learn."
      ]
    },
    {
      "cell_type": "code",
      "metadata": {
        "id": "vBSoD-G1QYN1"
      },
      "source": [
        "#Import Libraries\r\n",
        "from sklearn import datasets \r\n",
        "from sklearn.metrics import confusion_matrix \r\n",
        "from sklearn.model_selection import train_test_split"
      ],
      "execution_count": 1,
      "outputs": []
    },
    {
      "cell_type": "code",
      "metadata": {
        "id": "pN73XDCqQgNN"
      },
      "source": [
        "# loading the iris dataset \r\n",
        "iris = datasets.load_iris()"
      ],
      "execution_count": 2,
      "outputs": []
    },
    {
      "cell_type": "code",
      "metadata": {
        "colab": {
          "base_uri": "https://localhost:8080/"
        },
        "id": "628UBhvnQj31",
        "outputId": "e6f243fb-5cc2-4336-c35f-f2445bf0b962"
      },
      "source": [
        "print(iris)"
      ],
      "execution_count": 3,
      "outputs": [
        {
          "output_type": "stream",
          "text": [
            "{'data': array([[5.1, 3.5, 1.4, 0.2],\n",
            "       [4.9, 3. , 1.4, 0.2],\n",
            "       [4.7, 3.2, 1.3, 0.2],\n",
            "       [4.6, 3.1, 1.5, 0.2],\n",
            "       [5. , 3.6, 1.4, 0.2],\n",
            "       [5.4, 3.9, 1.7, 0.4],\n",
            "       [4.6, 3.4, 1.4, 0.3],\n",
            "       [5. , 3.4, 1.5, 0.2],\n",
            "       [4.4, 2.9, 1.4, 0.2],\n",
            "       [4.9, 3.1, 1.5, 0.1],\n",
            "       [5.4, 3.7, 1.5, 0.2],\n",
            "       [4.8, 3.4, 1.6, 0.2],\n",
            "       [4.8, 3. , 1.4, 0.1],\n",
            "       [4.3, 3. , 1.1, 0.1],\n",
            "       [5.8, 4. , 1.2, 0.2],\n",
            "       [5.7, 4.4, 1.5, 0.4],\n",
            "       [5.4, 3.9, 1.3, 0.4],\n",
            "       [5.1, 3.5, 1.4, 0.3],\n",
            "       [5.7, 3.8, 1.7, 0.3],\n",
            "       [5.1, 3.8, 1.5, 0.3],\n",
            "       [5.4, 3.4, 1.7, 0.2],\n",
            "       [5.1, 3.7, 1.5, 0.4],\n",
            "       [4.6, 3.6, 1. , 0.2],\n",
            "       [5.1, 3.3, 1.7, 0.5],\n",
            "       [4.8, 3.4, 1.9, 0.2],\n",
            "       [5. , 3. , 1.6, 0.2],\n",
            "       [5. , 3.4, 1.6, 0.4],\n",
            "       [5.2, 3.5, 1.5, 0.2],\n",
            "       [5.2, 3.4, 1.4, 0.2],\n",
            "       [4.7, 3.2, 1.6, 0.2],\n",
            "       [4.8, 3.1, 1.6, 0.2],\n",
            "       [5.4, 3.4, 1.5, 0.4],\n",
            "       [5.2, 4.1, 1.5, 0.1],\n",
            "       [5.5, 4.2, 1.4, 0.2],\n",
            "       [4.9, 3.1, 1.5, 0.2],\n",
            "       [5. , 3.2, 1.2, 0.2],\n",
            "       [5.5, 3.5, 1.3, 0.2],\n",
            "       [4.9, 3.6, 1.4, 0.1],\n",
            "       [4.4, 3. , 1.3, 0.2],\n",
            "       [5.1, 3.4, 1.5, 0.2],\n",
            "       [5. , 3.5, 1.3, 0.3],\n",
            "       [4.5, 2.3, 1.3, 0.3],\n",
            "       [4.4, 3.2, 1.3, 0.2],\n",
            "       [5. , 3.5, 1.6, 0.6],\n",
            "       [5.1, 3.8, 1.9, 0.4],\n",
            "       [4.8, 3. , 1.4, 0.3],\n",
            "       [5.1, 3.8, 1.6, 0.2],\n",
            "       [4.6, 3.2, 1.4, 0.2],\n",
            "       [5.3, 3.7, 1.5, 0.2],\n",
            "       [5. , 3.3, 1.4, 0.2],\n",
            "       [7. , 3.2, 4.7, 1.4],\n",
            "       [6.4, 3.2, 4.5, 1.5],\n",
            "       [6.9, 3.1, 4.9, 1.5],\n",
            "       [5.5, 2.3, 4. , 1.3],\n",
            "       [6.5, 2.8, 4.6, 1.5],\n",
            "       [5.7, 2.8, 4.5, 1.3],\n",
            "       [6.3, 3.3, 4.7, 1.6],\n",
            "       [4.9, 2.4, 3.3, 1. ],\n",
            "       [6.6, 2.9, 4.6, 1.3],\n",
            "       [5.2, 2.7, 3.9, 1.4],\n",
            "       [5. , 2. , 3.5, 1. ],\n",
            "       [5.9, 3. , 4.2, 1.5],\n",
            "       [6. , 2.2, 4. , 1. ],\n",
            "       [6.1, 2.9, 4.7, 1.4],\n",
            "       [5.6, 2.9, 3.6, 1.3],\n",
            "       [6.7, 3.1, 4.4, 1.4],\n",
            "       [5.6, 3. , 4.5, 1.5],\n",
            "       [5.8, 2.7, 4.1, 1. ],\n",
            "       [6.2, 2.2, 4.5, 1.5],\n",
            "       [5.6, 2.5, 3.9, 1.1],\n",
            "       [5.9, 3.2, 4.8, 1.8],\n",
            "       [6.1, 2.8, 4. , 1.3],\n",
            "       [6.3, 2.5, 4.9, 1.5],\n",
            "       [6.1, 2.8, 4.7, 1.2],\n",
            "       [6.4, 2.9, 4.3, 1.3],\n",
            "       [6.6, 3. , 4.4, 1.4],\n",
            "       [6.8, 2.8, 4.8, 1.4],\n",
            "       [6.7, 3. , 5. , 1.7],\n",
            "       [6. , 2.9, 4.5, 1.5],\n",
            "       [5.7, 2.6, 3.5, 1. ],\n",
            "       [5.5, 2.4, 3.8, 1.1],\n",
            "       [5.5, 2.4, 3.7, 1. ],\n",
            "       [5.8, 2.7, 3.9, 1.2],\n",
            "       [6. , 2.7, 5.1, 1.6],\n",
            "       [5.4, 3. , 4.5, 1.5],\n",
            "       [6. , 3.4, 4.5, 1.6],\n",
            "       [6.7, 3.1, 4.7, 1.5],\n",
            "       [6.3, 2.3, 4.4, 1.3],\n",
            "       [5.6, 3. , 4.1, 1.3],\n",
            "       [5.5, 2.5, 4. , 1.3],\n",
            "       [5.5, 2.6, 4.4, 1.2],\n",
            "       [6.1, 3. , 4.6, 1.4],\n",
            "       [5.8, 2.6, 4. , 1.2],\n",
            "       [5. , 2.3, 3.3, 1. ],\n",
            "       [5.6, 2.7, 4.2, 1.3],\n",
            "       [5.7, 3. , 4.2, 1.2],\n",
            "       [5.7, 2.9, 4.2, 1.3],\n",
            "       [6.2, 2.9, 4.3, 1.3],\n",
            "       [5.1, 2.5, 3. , 1.1],\n",
            "       [5.7, 2.8, 4.1, 1.3],\n",
            "       [6.3, 3.3, 6. , 2.5],\n",
            "       [5.8, 2.7, 5.1, 1.9],\n",
            "       [7.1, 3. , 5.9, 2.1],\n",
            "       [6.3, 2.9, 5.6, 1.8],\n",
            "       [6.5, 3. , 5.8, 2.2],\n",
            "       [7.6, 3. , 6.6, 2.1],\n",
            "       [4.9, 2.5, 4.5, 1.7],\n",
            "       [7.3, 2.9, 6.3, 1.8],\n",
            "       [6.7, 2.5, 5.8, 1.8],\n",
            "       [7.2, 3.6, 6.1, 2.5],\n",
            "       [6.5, 3.2, 5.1, 2. ],\n",
            "       [6.4, 2.7, 5.3, 1.9],\n",
            "       [6.8, 3. , 5.5, 2.1],\n",
            "       [5.7, 2.5, 5. , 2. ],\n",
            "       [5.8, 2.8, 5.1, 2.4],\n",
            "       [6.4, 3.2, 5.3, 2.3],\n",
            "       [6.5, 3. , 5.5, 1.8],\n",
            "       [7.7, 3.8, 6.7, 2.2],\n",
            "       [7.7, 2.6, 6.9, 2.3],\n",
            "       [6. , 2.2, 5. , 1.5],\n",
            "       [6.9, 3.2, 5.7, 2.3],\n",
            "       [5.6, 2.8, 4.9, 2. ],\n",
            "       [7.7, 2.8, 6.7, 2. ],\n",
            "       [6.3, 2.7, 4.9, 1.8],\n",
            "       [6.7, 3.3, 5.7, 2.1],\n",
            "       [7.2, 3.2, 6. , 1.8],\n",
            "       [6.2, 2.8, 4.8, 1.8],\n",
            "       [6.1, 3. , 4.9, 1.8],\n",
            "       [6.4, 2.8, 5.6, 2.1],\n",
            "       [7.2, 3. , 5.8, 1.6],\n",
            "       [7.4, 2.8, 6.1, 1.9],\n",
            "       [7.9, 3.8, 6.4, 2. ],\n",
            "       [6.4, 2.8, 5.6, 2.2],\n",
            "       [6.3, 2.8, 5.1, 1.5],\n",
            "       [6.1, 2.6, 5.6, 1.4],\n",
            "       [7.7, 3. , 6.1, 2.3],\n",
            "       [6.3, 3.4, 5.6, 2.4],\n",
            "       [6.4, 3.1, 5.5, 1.8],\n",
            "       [6. , 3. , 4.8, 1.8],\n",
            "       [6.9, 3.1, 5.4, 2.1],\n",
            "       [6.7, 3.1, 5.6, 2.4],\n",
            "       [6.9, 3.1, 5.1, 2.3],\n",
            "       [5.8, 2.7, 5.1, 1.9],\n",
            "       [6.8, 3.2, 5.9, 2.3],\n",
            "       [6.7, 3.3, 5.7, 2.5],\n",
            "       [6.7, 3. , 5.2, 2.3],\n",
            "       [6.3, 2.5, 5. , 1.9],\n",
            "       [6.5, 3. , 5.2, 2. ],\n",
            "       [6.2, 3.4, 5.4, 2.3],\n",
            "       [5.9, 3. , 5.1, 1.8]]), 'target': array([0, 0, 0, 0, 0, 0, 0, 0, 0, 0, 0, 0, 0, 0, 0, 0, 0, 0, 0, 0, 0, 0,\n",
            "       0, 0, 0, 0, 0, 0, 0, 0, 0, 0, 0, 0, 0, 0, 0, 0, 0, 0, 0, 0, 0, 0,\n",
            "       0, 0, 0, 0, 0, 0, 1, 1, 1, 1, 1, 1, 1, 1, 1, 1, 1, 1, 1, 1, 1, 1,\n",
            "       1, 1, 1, 1, 1, 1, 1, 1, 1, 1, 1, 1, 1, 1, 1, 1, 1, 1, 1, 1, 1, 1,\n",
            "       1, 1, 1, 1, 1, 1, 1, 1, 1, 1, 1, 1, 2, 2, 2, 2, 2, 2, 2, 2, 2, 2,\n",
            "       2, 2, 2, 2, 2, 2, 2, 2, 2, 2, 2, 2, 2, 2, 2, 2, 2, 2, 2, 2, 2, 2,\n",
            "       2, 2, 2, 2, 2, 2, 2, 2, 2, 2, 2, 2, 2, 2, 2, 2, 2, 2]), 'target_names': array(['setosa', 'versicolor', 'virginica'], dtype='<U10'), 'DESCR': '.. _iris_dataset:\\n\\nIris plants dataset\\n--------------------\\n\\n**Data Set Characteristics:**\\n\\n    :Number of Instances: 150 (50 in each of three classes)\\n    :Number of Attributes: 4 numeric, predictive attributes and the class\\n    :Attribute Information:\\n        - sepal length in cm\\n        - sepal width in cm\\n        - petal length in cm\\n        - petal width in cm\\n        - class:\\n                - Iris-Setosa\\n                - Iris-Versicolour\\n                - Iris-Virginica\\n                \\n    :Summary Statistics:\\n\\n    ============== ==== ==== ======= ===== ====================\\n                    Min  Max   Mean    SD   Class Correlation\\n    ============== ==== ==== ======= ===== ====================\\n    sepal length:   4.3  7.9   5.84   0.83    0.7826\\n    sepal width:    2.0  4.4   3.05   0.43   -0.4194\\n    petal length:   1.0  6.9   3.76   1.76    0.9490  (high!)\\n    petal width:    0.1  2.5   1.20   0.76    0.9565  (high!)\\n    ============== ==== ==== ======= ===== ====================\\n\\n    :Missing Attribute Values: None\\n    :Class Distribution: 33.3% for each of 3 classes.\\n    :Creator: R.A. Fisher\\n    :Donor: Michael Marshall (MARSHALL%PLU@io.arc.nasa.gov)\\n    :Date: July, 1988\\n\\nThe famous Iris database, first used by Sir R.A. Fisher. The dataset is taken\\nfrom Fisher\\'s paper. Note that it\\'s the same as in R, but not as in the UCI\\nMachine Learning Repository, which has two wrong data points.\\n\\nThis is perhaps the best known database to be found in the\\npattern recognition literature.  Fisher\\'s paper is a classic in the field and\\nis referenced frequently to this day.  (See Duda & Hart, for example.)  The\\ndata set contains 3 classes of 50 instances each, where each class refers to a\\ntype of iris plant.  One class is linearly separable from the other 2; the\\nlatter are NOT linearly separable from each other.\\n\\n.. topic:: References\\n\\n   - Fisher, R.A. \"The use of multiple measurements in taxonomic problems\"\\n     Annual Eugenics, 7, Part II, 179-188 (1936); also in \"Contributions to\\n     Mathematical Statistics\" (John Wiley, NY, 1950).\\n   - Duda, R.O., & Hart, P.E. (1973) Pattern Classification and Scene Analysis.\\n     (Q327.D83) John Wiley & Sons.  ISBN 0-471-22361-1.  See page 218.\\n   - Dasarathy, B.V. (1980) \"Nosing Around the Neighborhood: A New System\\n     Structure and Classification Rule for Recognition in Partially Exposed\\n     Environments\".  IEEE Transactions on Pattern Analysis and Machine\\n     Intelligence, Vol. PAMI-2, No. 1, 67-71.\\n   - Gates, G.W. (1972) \"The Reduced Nearest Neighbor Rule\".  IEEE Transactions\\n     on Information Theory, May 1972, 431-433.\\n   - See also: 1988 MLC Proceedings, 54-64.  Cheeseman et al\"s AUTOCLASS II\\n     conceptual clustering system finds 3 classes in the data.\\n   - Many, many more ...', 'feature_names': ['sepal length (cm)', 'sepal width (cm)', 'petal length (cm)', 'petal width (cm)'], 'filename': '/usr/local/lib/python3.7/dist-packages/sklearn/datasets/data/iris.csv'}\n"
          ],
          "name": "stdout"
        }
      ]
    },
    {
      "cell_type": "code",
      "metadata": {
        "id": "oW8asmBSQxc1"
      },
      "source": [
        "# X -> features, y -> label \r\n",
        "X = iris.data \r\n",
        "y = iris.target "
      ],
      "execution_count": 45,
      "outputs": []
    },
    {
      "cell_type": "code",
      "metadata": {
        "colab": {
          "base_uri": "https://localhost:8080/"
        },
        "id": "dRlrryfOQ1ZN",
        "outputId": "6c35ffba-30f1-4a49-ecab-1898fd23351e"
      },
      "source": [
        "print(X)"
      ],
      "execution_count": 5,
      "outputs": [
        {
          "output_type": "stream",
          "text": [
            "[[5.1 3.5 1.4 0.2]\n",
            " [4.9 3.  1.4 0.2]\n",
            " [4.7 3.2 1.3 0.2]\n",
            " [4.6 3.1 1.5 0.2]\n",
            " [5.  3.6 1.4 0.2]\n",
            " [5.4 3.9 1.7 0.4]\n",
            " [4.6 3.4 1.4 0.3]\n",
            " [5.  3.4 1.5 0.2]\n",
            " [4.4 2.9 1.4 0.2]\n",
            " [4.9 3.1 1.5 0.1]\n",
            " [5.4 3.7 1.5 0.2]\n",
            " [4.8 3.4 1.6 0.2]\n",
            " [4.8 3.  1.4 0.1]\n",
            " [4.3 3.  1.1 0.1]\n",
            " [5.8 4.  1.2 0.2]\n",
            " [5.7 4.4 1.5 0.4]\n",
            " [5.4 3.9 1.3 0.4]\n",
            " [5.1 3.5 1.4 0.3]\n",
            " [5.7 3.8 1.7 0.3]\n",
            " [5.1 3.8 1.5 0.3]\n",
            " [5.4 3.4 1.7 0.2]\n",
            " [5.1 3.7 1.5 0.4]\n",
            " [4.6 3.6 1.  0.2]\n",
            " [5.1 3.3 1.7 0.5]\n",
            " [4.8 3.4 1.9 0.2]\n",
            " [5.  3.  1.6 0.2]\n",
            " [5.  3.4 1.6 0.4]\n",
            " [5.2 3.5 1.5 0.2]\n",
            " [5.2 3.4 1.4 0.2]\n",
            " [4.7 3.2 1.6 0.2]\n",
            " [4.8 3.1 1.6 0.2]\n",
            " [5.4 3.4 1.5 0.4]\n",
            " [5.2 4.1 1.5 0.1]\n",
            " [5.5 4.2 1.4 0.2]\n",
            " [4.9 3.1 1.5 0.2]\n",
            " [5.  3.2 1.2 0.2]\n",
            " [5.5 3.5 1.3 0.2]\n",
            " [4.9 3.6 1.4 0.1]\n",
            " [4.4 3.  1.3 0.2]\n",
            " [5.1 3.4 1.5 0.2]\n",
            " [5.  3.5 1.3 0.3]\n",
            " [4.5 2.3 1.3 0.3]\n",
            " [4.4 3.2 1.3 0.2]\n",
            " [5.  3.5 1.6 0.6]\n",
            " [5.1 3.8 1.9 0.4]\n",
            " [4.8 3.  1.4 0.3]\n",
            " [5.1 3.8 1.6 0.2]\n",
            " [4.6 3.2 1.4 0.2]\n",
            " [5.3 3.7 1.5 0.2]\n",
            " [5.  3.3 1.4 0.2]\n",
            " [7.  3.2 4.7 1.4]\n",
            " [6.4 3.2 4.5 1.5]\n",
            " [6.9 3.1 4.9 1.5]\n",
            " [5.5 2.3 4.  1.3]\n",
            " [6.5 2.8 4.6 1.5]\n",
            " [5.7 2.8 4.5 1.3]\n",
            " [6.3 3.3 4.7 1.6]\n",
            " [4.9 2.4 3.3 1. ]\n",
            " [6.6 2.9 4.6 1.3]\n",
            " [5.2 2.7 3.9 1.4]\n",
            " [5.  2.  3.5 1. ]\n",
            " [5.9 3.  4.2 1.5]\n",
            " [6.  2.2 4.  1. ]\n",
            " [6.1 2.9 4.7 1.4]\n",
            " [5.6 2.9 3.6 1.3]\n",
            " [6.7 3.1 4.4 1.4]\n",
            " [5.6 3.  4.5 1.5]\n",
            " [5.8 2.7 4.1 1. ]\n",
            " [6.2 2.2 4.5 1.5]\n",
            " [5.6 2.5 3.9 1.1]\n",
            " [5.9 3.2 4.8 1.8]\n",
            " [6.1 2.8 4.  1.3]\n",
            " [6.3 2.5 4.9 1.5]\n",
            " [6.1 2.8 4.7 1.2]\n",
            " [6.4 2.9 4.3 1.3]\n",
            " [6.6 3.  4.4 1.4]\n",
            " [6.8 2.8 4.8 1.4]\n",
            " [6.7 3.  5.  1.7]\n",
            " [6.  2.9 4.5 1.5]\n",
            " [5.7 2.6 3.5 1. ]\n",
            " [5.5 2.4 3.8 1.1]\n",
            " [5.5 2.4 3.7 1. ]\n",
            " [5.8 2.7 3.9 1.2]\n",
            " [6.  2.7 5.1 1.6]\n",
            " [5.4 3.  4.5 1.5]\n",
            " [6.  3.4 4.5 1.6]\n",
            " [6.7 3.1 4.7 1.5]\n",
            " [6.3 2.3 4.4 1.3]\n",
            " [5.6 3.  4.1 1.3]\n",
            " [5.5 2.5 4.  1.3]\n",
            " [5.5 2.6 4.4 1.2]\n",
            " [6.1 3.  4.6 1.4]\n",
            " [5.8 2.6 4.  1.2]\n",
            " [5.  2.3 3.3 1. ]\n",
            " [5.6 2.7 4.2 1.3]\n",
            " [5.7 3.  4.2 1.2]\n",
            " [5.7 2.9 4.2 1.3]\n",
            " [6.2 2.9 4.3 1.3]\n",
            " [5.1 2.5 3.  1.1]\n",
            " [5.7 2.8 4.1 1.3]\n",
            " [6.3 3.3 6.  2.5]\n",
            " [5.8 2.7 5.1 1.9]\n",
            " [7.1 3.  5.9 2.1]\n",
            " [6.3 2.9 5.6 1.8]\n",
            " [6.5 3.  5.8 2.2]\n",
            " [7.6 3.  6.6 2.1]\n",
            " [4.9 2.5 4.5 1.7]\n",
            " [7.3 2.9 6.3 1.8]\n",
            " [6.7 2.5 5.8 1.8]\n",
            " [7.2 3.6 6.1 2.5]\n",
            " [6.5 3.2 5.1 2. ]\n",
            " [6.4 2.7 5.3 1.9]\n",
            " [6.8 3.  5.5 2.1]\n",
            " [5.7 2.5 5.  2. ]\n",
            " [5.8 2.8 5.1 2.4]\n",
            " [6.4 3.2 5.3 2.3]\n",
            " [6.5 3.  5.5 1.8]\n",
            " [7.7 3.8 6.7 2.2]\n",
            " [7.7 2.6 6.9 2.3]\n",
            " [6.  2.2 5.  1.5]\n",
            " [6.9 3.2 5.7 2.3]\n",
            " [5.6 2.8 4.9 2. ]\n",
            " [7.7 2.8 6.7 2. ]\n",
            " [6.3 2.7 4.9 1.8]\n",
            " [6.7 3.3 5.7 2.1]\n",
            " [7.2 3.2 6.  1.8]\n",
            " [6.2 2.8 4.8 1.8]\n",
            " [6.1 3.  4.9 1.8]\n",
            " [6.4 2.8 5.6 2.1]\n",
            " [7.2 3.  5.8 1.6]\n",
            " [7.4 2.8 6.1 1.9]\n",
            " [7.9 3.8 6.4 2. ]\n",
            " [6.4 2.8 5.6 2.2]\n",
            " [6.3 2.8 5.1 1.5]\n",
            " [6.1 2.6 5.6 1.4]\n",
            " [7.7 3.  6.1 2.3]\n",
            " [6.3 3.4 5.6 2.4]\n",
            " [6.4 3.1 5.5 1.8]\n",
            " [6.  3.  4.8 1.8]\n",
            " [6.9 3.1 5.4 2.1]\n",
            " [6.7 3.1 5.6 2.4]\n",
            " [6.9 3.1 5.1 2.3]\n",
            " [5.8 2.7 5.1 1.9]\n",
            " [6.8 3.2 5.9 2.3]\n",
            " [6.7 3.3 5.7 2.5]\n",
            " [6.7 3.  5.2 2.3]\n",
            " [6.3 2.5 5.  1.9]\n",
            " [6.5 3.  5.2 2. ]\n",
            " [6.2 3.4 5.4 2.3]\n",
            " [5.9 3.  5.1 1.8]]\n"
          ],
          "name": "stdout"
        }
      ]
    },
    {
      "cell_type": "code",
      "metadata": {
        "colab": {
          "base_uri": "https://localhost:8080/"
        },
        "id": "_YVmgF2iQ5BV",
        "outputId": "7f0eb1ee-a600-4170-d2a3-f5fa2538e24b"
      },
      "source": [
        "print(y)"
      ],
      "execution_count": 6,
      "outputs": [
        {
          "output_type": "stream",
          "text": [
            "[0 0 0 0 0 0 0 0 0 0 0 0 0 0 0 0 0 0 0 0 0 0 0 0 0 0 0 0 0 0 0 0 0 0 0 0 0\n",
            " 0 0 0 0 0 0 0 0 0 0 0 0 0 1 1 1 1 1 1 1 1 1 1 1 1 1 1 1 1 1 1 1 1 1 1 1 1\n",
            " 1 1 1 1 1 1 1 1 1 1 1 1 1 1 1 1 1 1 1 1 1 1 1 1 1 1 2 2 2 2 2 2 2 2 2 2 2\n",
            " 2 2 2 2 2 2 2 2 2 2 2 2 2 2 2 2 2 2 2 2 2 2 2 2 2 2 2 2 2 2 2 2 2 2 2 2 2\n",
            " 2 2]\n"
          ],
          "name": "stdout"
        }
      ]
    },
    {
      "cell_type": "code",
      "metadata": {
        "id": "SqbbZ1UIQ74N"
      },
      "source": [
        "# dividing X, y into train and test data \r\n",
        "X_train, X_test, y_train, y_test = train_test_split(X, y,test_size=0.33, random_state = 0) "
      ],
      "execution_count": 46,
      "outputs": []
    },
    {
      "cell_type": "code",
      "metadata": {
        "colab": {
          "base_uri": "https://localhost:8080/"
        },
        "id": "KLKlfgVbREym",
        "outputId": "92912b97-e4bb-4650-9d98-62ad4b6807af"
      },
      "source": [
        "print(X_train)"
      ],
      "execution_count": 47,
      "outputs": [
        {
          "output_type": "stream",
          "text": [
            "[[5.6 2.5 3.9 1.1]\n",
            " [7.7 3.  6.1 2.3]\n",
            " [6.3 3.3 4.7 1.6]\n",
            " [5.5 2.4 3.8 1.1]\n",
            " [6.3 2.7 4.9 1.8]\n",
            " [6.3 2.8 5.1 1.5]\n",
            " [4.9 2.5 4.5 1.7]\n",
            " [6.3 2.5 5.  1.9]\n",
            " [7.  3.2 4.7 1.4]\n",
            " [6.5 3.  5.2 2. ]\n",
            " [6.  3.4 4.5 1.6]\n",
            " [4.8 3.1 1.6 0.2]\n",
            " [5.8 2.7 5.1 1.9]\n",
            " [5.6 2.7 4.2 1.3]\n",
            " [5.6 2.9 3.6 1.3]\n",
            " [5.5 2.5 4.  1.3]\n",
            " [6.1 3.  4.6 1.4]\n",
            " [7.2 3.2 6.  1.8]\n",
            " [5.3 3.7 1.5 0.2]\n",
            " [4.3 3.  1.1 0.1]\n",
            " [6.4 2.7 5.3 1.9]\n",
            " [5.7 3.  4.2 1.2]\n",
            " [5.4 3.4 1.7 0.2]\n",
            " [5.7 4.4 1.5 0.4]\n",
            " [6.9 3.1 4.9 1.5]\n",
            " [4.6 3.1 1.5 0.2]\n",
            " [5.9 3.  5.1 1.8]\n",
            " [5.1 2.5 3.  1.1]\n",
            " [4.6 3.4 1.4 0.3]\n",
            " [6.2 2.2 4.5 1.5]\n",
            " [7.2 3.6 6.1 2.5]\n",
            " [5.7 2.9 4.2 1.3]\n",
            " [4.8 3.  1.4 0.1]\n",
            " [7.1 3.  5.9 2.1]\n",
            " [6.9 3.2 5.7 2.3]\n",
            " [6.5 3.  5.8 2.2]\n",
            " [6.4 2.8 5.6 2.1]\n",
            " [5.1 3.8 1.6 0.2]\n",
            " [4.8 3.4 1.6 0.2]\n",
            " [6.5 3.2 5.1 2. ]\n",
            " [6.7 3.3 5.7 2.1]\n",
            " [4.5 2.3 1.3 0.3]\n",
            " [6.2 3.4 5.4 2.3]\n",
            " [4.9 3.  1.4 0.2]\n",
            " [5.7 2.5 5.  2. ]\n",
            " [6.9 3.1 5.4 2.1]\n",
            " [4.4 3.2 1.3 0.2]\n",
            " [5.  3.6 1.4 0.2]\n",
            " [7.2 3.  5.8 1.6]\n",
            " [5.1 3.5 1.4 0.3]\n",
            " [4.4 3.  1.3 0.2]\n",
            " [5.4 3.9 1.7 0.4]\n",
            " [5.5 2.3 4.  1.3]\n",
            " [6.8 3.2 5.9 2.3]\n",
            " [7.6 3.  6.6 2.1]\n",
            " [5.1 3.5 1.4 0.2]\n",
            " [4.9 3.1 1.5 0.2]\n",
            " [5.2 3.4 1.4 0.2]\n",
            " [5.7 2.8 4.5 1.3]\n",
            " [6.6 3.  4.4 1.4]\n",
            " [5.  3.2 1.2 0.2]\n",
            " [5.1 3.3 1.7 0.5]\n",
            " [6.4 2.9 4.3 1.3]\n",
            " [5.4 3.4 1.5 0.4]\n",
            " [7.7 2.6 6.9 2.3]\n",
            " [4.9 2.4 3.3 1. ]\n",
            " [7.9 3.8 6.4 2. ]\n",
            " [6.7 3.1 4.4 1.4]\n",
            " [5.2 4.1 1.5 0.1]\n",
            " [6.  3.  4.8 1.8]\n",
            " [5.8 4.  1.2 0.2]\n",
            " [7.7 2.8 6.7 2. ]\n",
            " [5.1 3.8 1.5 0.3]\n",
            " [4.7 3.2 1.6 0.2]\n",
            " [7.4 2.8 6.1 1.9]\n",
            " [5.  3.3 1.4 0.2]\n",
            " [6.3 3.4 5.6 2.4]\n",
            " [5.7 2.8 4.1 1.3]\n",
            " [5.8 2.7 3.9 1.2]\n",
            " [5.7 2.6 3.5 1. ]\n",
            " [6.4 3.2 5.3 2.3]\n",
            " [6.7 3.  5.2 2.3]\n",
            " [6.3 2.5 4.9 1.5]\n",
            " [6.7 3.  5.  1.7]\n",
            " [5.  3.  1.6 0.2]\n",
            " [5.5 2.4 3.7 1. ]\n",
            " [6.7 3.1 5.6 2.4]\n",
            " [5.8 2.7 5.1 1.9]\n",
            " [5.1 3.4 1.5 0.2]\n",
            " [6.6 2.9 4.6 1.3]\n",
            " [5.6 3.  4.1 1.3]\n",
            " [5.9 3.2 4.8 1.8]\n",
            " [6.3 2.3 4.4 1.3]\n",
            " [5.5 3.5 1.3 0.2]\n",
            " [5.1 3.7 1.5 0.4]\n",
            " [4.9 3.1 1.5 0.1]\n",
            " [6.3 2.9 5.6 1.8]\n",
            " [5.8 2.7 4.1 1. ]\n",
            " [7.7 3.8 6.7 2.2]\n",
            " [4.6 3.2 1.4 0.2]]\n"
          ],
          "name": "stdout"
        }
      ]
    },
    {
      "cell_type": "code",
      "metadata": {
        "colab": {
          "base_uri": "https://localhost:8080/"
        },
        "id": "DNK6GscMRIo2",
        "outputId": "ede9d4e7-b207-4e0b-d9d8-459903376276"
      },
      "source": [
        "print(y_train)"
      ],
      "execution_count": 48,
      "outputs": [
        {
          "output_type": "stream",
          "text": [
            "[1 2 1 1 2 2 2 2 1 2 1 0 2 1 1 1 1 2 0 0 2 1 0 0 1 0 2 1 0 1 2 1 0 2 2 2 2\n",
            " 0 0 2 2 0 2 0 2 2 0 0 2 0 0 0 1 2 2 0 0 0 1 1 0 0 1 0 2 1 2 1 0 2 0 2 0 0\n",
            " 2 0 2 1 1 1 2 2 1 1 0 1 2 2 0 1 1 1 1 0 0 0 2 1 2 0]\n"
          ],
          "name": "stdout"
        }
      ]
    },
    {
      "cell_type": "code",
      "metadata": {
        "id": "Cqc28SusRM83"
      },
      "source": [
        "# training a DescisionTreeClassifier \r\n",
        "from sklearn.tree import DecisionTreeClassifier \r\n",
        "dtree_model = DecisionTreeClassifier(max_depth = 2).fit(X_train, y_train) \r\n",
        "dtree_predictions = dtree_model.predict(X_test) "
      ],
      "execution_count": 50,
      "outputs": []
    },
    {
      "cell_type": "code",
      "metadata": {
        "colab": {
          "base_uri": "https://localhost:8080/"
        },
        "id": "AtFeAm6cROVH",
        "outputId": "9ce96a62-07a2-49cb-bcde-0d09b0e23380"
      },
      "source": [
        "print(dtree_predictions)"
      ],
      "execution_count": 51,
      "outputs": [
        {
          "output_type": "stream",
          "text": [
            "[2 1 0 2 0 2 0 1 1 1 1 1 1 1 1 0 1 1 0 0 2 1 0 0 2 0 0 1 1 0 2 1 0 2 2 1 0\n",
            " 1 1 1 2 0 2 0 0 1 2 2 1 2]\n"
          ],
          "name": "stdout"
        }
      ]
    },
    {
      "cell_type": "code",
      "metadata": {
        "id": "zIofb2MsRUbm"
      },
      "source": [
        "# creating a confusion matrix \r\n",
        "cm = confusion_matrix(y_test, dtree_predictions) "
      ],
      "execution_count": 41,
      "outputs": []
    },
    {
      "cell_type": "code",
      "metadata": {
        "colab": {
          "base_uri": "https://localhost:8080/"
        },
        "id": "V-Eys8BSRYMm",
        "outputId": "c21084ce-e262-484f-fb3d-4f97381ad264"
      },
      "source": [
        "print(cm)"
      ],
      "execution_count": 42,
      "outputs": [
        {
          "output_type": "stream",
          "text": [
            "[[21  0  0]\n",
            " [ 0 29  1]\n",
            " [ 0  7 17]]\n"
          ],
          "name": "stdout"
        }
      ]
    },
    {
      "cell_type": "code",
      "metadata": {
        "colab": {
          "base_uri": "https://localhost:8080/"
        },
        "id": "alu5FUm9Rkc1",
        "outputId": "f39f91f4-1e5f-43d5-ca3e-ef8d32e9d2b2"
      },
      "source": [
        "from sklearn.metrics import classification_report\r\n",
        "target_names = ['Iris Setosa', 'Iris Versicolor', 'Iris Virginica']\r\n",
        "print(classification_report(y_test, dtree_predictions, target_names=target_names))"
      ],
      "execution_count": 52,
      "outputs": [
        {
          "output_type": "stream",
          "text": [
            "                 precision    recall  f1-score   support\n",
            "\n",
            "    Iris Setosa       1.00      1.00      1.00        16\n",
            "Iris Versicolor       0.90      1.00      0.95        19\n",
            " Iris Virginica       1.00      0.87      0.93        15\n",
            "\n",
            "       accuracy                           0.96        50\n",
            "      macro avg       0.97      0.96      0.96        50\n",
            "   weighted avg       0.96      0.96      0.96        50\n",
            "\n"
          ],
          "name": "stdout"
        }
      ]
    },
    {
      "cell_type": "code",
      "metadata": {
        "colab": {
          "base_uri": "https://localhost:8080/",
          "height": 379
        },
        "id": "-9MYgPgwSOWu",
        "outputId": "9ac1e6f6-136c-4b23-87b5-8e1ee8f27669"
      },
      "source": [
        "from sklearn.metrics import plot_confusion_matrix\r\n",
        "import matplotlib.pyplot as plt\r\n",
        "import numpy as np\r\n",
        "import itertools\r\n",
        "def plot_confusion_matrix(cm, classes,\r\n",
        "                          normalize=False,\r\n",
        "                          title='Confusion matrix',\r\n",
        "                          cmap=plt.cm.Blues):\r\n",
        "    \"\"\"\r\n",
        "    This function prints and plots the confusion matrix.\r\n",
        "    Normalization can be applied by setting `normalize=True`.\r\n",
        "    \"\"\"\r\n",
        "    plt.imshow(cm, interpolation='nearest', cmap=cmap)\r\n",
        "    plt.title(title)\r\n",
        "    plt.colorbar()\r\n",
        "    tick_marks = np.arange(len(classes))\r\n",
        "    plt.xticks(tick_marks, classes, rotation=45)\r\n",
        "    plt.yticks(tick_marks, classes)\r\n",
        "\r\n",
        "    if normalize:\r\n",
        "        cm = cm.astype('float') / cm.sum(axis=1)[:, np.newaxis]\r\n",
        "        print(\"Normalized confusion matrix\")\r\n",
        "    else:\r\n",
        "        print('Confusion matrix, without normalization')\r\n",
        "\r\n",
        "    print(cm)\r\n",
        "\r\n",
        "    thresh = cm.max() / 2.\r\n",
        "    for i, j in itertools.product(range(cm.shape[0]), range(cm.shape[1])):\r\n",
        "        plt.text(j, i, cm[i, j],\r\n",
        "                 horizontalalignment=\"center\",\r\n",
        "                 color=\"white\" if cm[i, j] > thresh else \"black\")\r\n",
        "\r\n",
        "    plt.tight_layout()\r\n",
        "    plt.ylabel('True label')\r\n",
        "    plt.xlabel('Predicted label')\r\n",
        "\r\n",
        "# Compute confusion matrix\r\n",
        "cnf_matrix = confusion_matrix(y_test, dtree_predictions)\r\n",
        "np.set_printoptions(precision=2)\r\n",
        "\r\n",
        "# Plot non-normalized confusion matrix\r\n",
        "plt.figure()\r\n",
        "plot_confusion_matrix(cm, classes=target_names,\r\n",
        "                      title='Confusion matrix, without normalization')\r\n",
        "\r\n",
        "\r\n",
        "\r\n",
        "plt.show()"
      ],
      "execution_count": 44,
      "outputs": [
        {
          "output_type": "stream",
          "text": [
            "Confusion matrix, without normalization\n",
            "[[21  0  0]\n",
            " [ 0 29  1]\n",
            " [ 0  7 17]]\n"
          ],
          "name": "stdout"
        },
        {
          "output_type": "display_data",
          "data": {
            "image/png": "[encoded data removed]",
            "text/plain": [
              "<Figure size 432x288 with 2 Axes>"
            ]
          },
          "metadata": {
            "tags": [],
            "needs_background": "light"
          }
        }
      ]
    },
    {
      "cell_type": "markdown",
      "metadata": {
        "id": "yUDnxVXcTogn"
      },
      "source": [
        "**Support Vector Machines**\r\n",
        "SVM (Support vector machine) is an efficient classification method when the feature vector is high dimensional. In sci-kit learn, we can specify the kernel function."
      ]
    },
    {
      "cell_type": "markdown",
      "metadata": {
        "id": "H0pr_lciT1-u"
      },
      "source": [
        "**Kernel Functions**\r\n",
        "- linear\r\n",
        "\r\n",
        "\r\n",
        "- polynomial\r\n",
        "\r\n",
        "\r\n",
        "- rbf (radial basis function)\r\n",
        "\r\n",
        "\r\n",
        "- sigmoid"
      ]
    },
    {
      "cell_type": "code",
      "metadata": {
        "id": "5U70cktqUL_X"
      },
      "source": [
        "# importing necessary libraries \r\n",
        "from sklearn import datasets \r\n",
        "from sklearn.metrics import confusion_matrix \r\n",
        "from sklearn.model_selection import train_test_split"
      ],
      "execution_count": 53,
      "outputs": []
    },
    {
      "cell_type": "code",
      "metadata": {
        "id": "B3jZhZpdUSIo"
      },
      "source": [
        "# loading the iris dataset \r\n",
        "iris = datasets.load_iris() "
      ],
      "execution_count": 54,
      "outputs": []
    },
    {
      "cell_type": "code",
      "metadata": {
        "id": "kybumg3rUTY2"
      },
      "source": [
        "# X -> features, y -> label \r\n",
        "X = iris.data \r\n",
        "y = iris.target "
      ],
      "execution_count": 55,
      "outputs": []
    },
    {
      "cell_type": "code",
      "metadata": {
        "id": "PwDnEvG_UZXv"
      },
      "source": [
        "# dividing X, y into train and test data \r\n",
        "X_train, X_test, y_train, y_test = train_test_split(X, y,test_size=0.33, random_state = 0) "
      ],
      "execution_count": 84,
      "outputs": []
    },
    {
      "cell_type": "code",
      "metadata": {
        "id": "2Wcak8qyUeAA"
      },
      "source": [
        "# training a linear SVM classifier \r\n",
        "from sklearn.svm import SVC \r\n",
        "svm_model_linear = SVC(kernel = 'linear', C = 1).fit(X_train, y_train) \r\n",
        "svm_predictions = svm_model_linear.predict(X_test) "
      ],
      "execution_count": 85,
      "outputs": []
    },
    {
      "cell_type": "code",
      "metadata": {
        "id": "dWzZxEzWUfrf"
      },
      "source": [
        "# model accuracy for X_test   \r\n",
        "accuracy = svm_model_linear.score(X_test, y_test) "
      ],
      "execution_count": 86,
      "outputs": []
    },
    {
      "cell_type": "code",
      "metadata": {
        "colab": {
          "base_uri": "https://localhost:8080/"
        },
        "id": "mAGLga-tUoy_",
        "outputId": "13e4e2c0-6b3b-49cf-af8f-38c7eb9d3e34"
      },
      "source": [
        "print(accuracy)"
      ],
      "execution_count": 87,
      "outputs": [
        {
          "output_type": "stream",
          "text": [
            "0.98\n"
          ],
          "name": "stdout"
        }
      ]
    },
    {
      "cell_type": "code",
      "metadata": {
        "colab": {
          "base_uri": "https://localhost:8080/"
        },
        "id": "Cz8vO0g5UsAY",
        "outputId": "49d5edaf-86f4-4728-b2cc-6aecfdc01db4"
      },
      "source": [
        "# creating a confusion matrix \r\n",
        "cm = confusion_matrix(y_test, svm_predictions)\r\n",
        "print(cm)"
      ],
      "execution_count": 88,
      "outputs": [
        {
          "output_type": "stream",
          "text": [
            "[[16  0  0]\n",
            " [ 0 18  1]\n",
            " [ 0  0 15]]\n"
          ],
          "name": "stdout"
        }
      ]
    },
    {
      "cell_type": "code",
      "metadata": {
        "colab": {
          "base_uri": "https://localhost:8080/"
        },
        "id": "cXC0loimUvsX",
        "outputId": "6c68f572-d839-4eb1-89fb-84970258d517"
      },
      "source": [
        "print(classification_report(y_test, svm_predictions, target_names=target_names))"
      ],
      "execution_count": 89,
      "outputs": [
        {
          "output_type": "stream",
          "text": [
            "                 precision    recall  f1-score   support\n",
            "\n",
            "    Iris Setosa       1.00      1.00      1.00        16\n",
            "Iris Versicolor       1.00      0.95      0.97        19\n",
            " Iris Virginica       0.94      1.00      0.97        15\n",
            "\n",
            "       accuracy                           0.98        50\n",
            "      macro avg       0.98      0.98      0.98        50\n",
            "   weighted avg       0.98      0.98      0.98        50\n",
            "\n"
          ],
          "name": "stdout"
        }
      ]
    },
    {
      "cell_type": "code",
      "metadata": {
        "colab": {
          "base_uri": "https://localhost:8080/",
          "height": 379
        },
        "id": "XkgoP2EfU3T_",
        "outputId": "7a1786a9-8fea-43b0-c731-d5422389bb72"
      },
      "source": [
        "plt.figure()\r\n",
        "plot_confusion_matrix(cm, classes=target_names,\r\n",
        "                      title='Confusion matrix, without normalization')\r\n",
        "plt.show()"
      ],
      "execution_count": 83,
      "outputs": [
        {
          "output_type": "stream",
          "text": [
            "Confusion matrix, without normalization\n",
            "[[3 0 0]\n",
            " [0 8 0]\n",
            " [0 0 4]]\n"
          ],
          "name": "stdout"
        },
        {
          "output_type": "display_data",
          "data": {
            "image/png": "[encoded data removed]",
            "text/plain": [
              "<Figure size 432x288 with 2 Axes>"
            ]
          },
          "metadata": {
            "tags": [],
            "needs_background": "light"
          }
        }
      ]
    },
    {
      "cell_type": "code",
      "metadata": {
        "id": "3HfkAIAQVBQ1"
      },
      "source": [
        "#Polynomial Kernel\r\n",
        "svm_model_polynomial = SVC(kernel = 'poly', C = 1).fit(X_train, y_train) \r\n",
        "svm_predictions = svm_model_polynomial.predict(X_test)"
      ],
      "execution_count": 93,
      "outputs": []
    },
    {
      "cell_type": "code",
      "metadata": {
        "colab": {
          "base_uri": "https://localhost:8080/"
        },
        "id": "tdkBxULfVXso",
        "outputId": "63187401-9abf-433f-9448-4a836b0f8668"
      },
      "source": [
        "# model accuracy for X_test   \r\n",
        "accuracy = svm_model_polynomial.score(X_test, y_test) \r\n",
        "print(accuracy)"
      ],
      "execution_count": 94,
      "outputs": [
        {
          "output_type": "stream",
          "text": [
            "0.98\n"
          ],
          "name": "stdout"
        }
      ]
    },
    {
      "cell_type": "code",
      "metadata": {
        "colab": {
          "base_uri": "https://localhost:8080/"
        },
        "id": "hgat9N__VfS_",
        "outputId": "ad9866ae-f6f3-4b4e-e9cc-6a78691906de"
      },
      "source": [
        "print(classification_report(y_test, svm_predictions, target_names=target_names))"
      ],
      "execution_count": 95,
      "outputs": [
        {
          "output_type": "stream",
          "text": [
            "                 precision    recall  f1-score   support\n",
            "\n",
            "    Iris Setosa       1.00      1.00      1.00        16\n",
            "Iris Versicolor       1.00      0.95      0.97        19\n",
            " Iris Virginica       0.94      1.00      0.97        15\n",
            "\n",
            "       accuracy                           0.98        50\n",
            "      macro avg       0.98      0.98      0.98        50\n",
            "   weighted avg       0.98      0.98      0.98        50\n",
            "\n"
          ],
          "name": "stdout"
        }
      ]
    },
    {
      "cell_type": "code",
      "metadata": {
        "colab": {
          "base_uri": "https://localhost:8080/",
          "height": 431
        },
        "id": "jEE9tV1dVimH",
        "outputId": "13626e7e-4944-405f-9834-c5c8687f6c19"
      },
      "source": [
        "# creating a confusion matrix \r\n",
        "cm = confusion_matrix(y_test, svm_predictions)\r\n",
        "print(cm)\r\n",
        "plt.figure()\r\n",
        "plot_confusion_matrix(cm, classes=target_names,\r\n",
        "                      title='Confusion matrix, without normalization')\r\n",
        "plt.show()"
      ],
      "execution_count": 96,
      "outputs": [
        {
          "output_type": "stream",
          "text": [
            "[[16  0  0]\n",
            " [ 0 18  1]\n",
            " [ 0  0 15]]\n",
            "Confusion matrix, without normalization\n",
            "[[16  0  0]\n",
            " [ 0 18  1]\n",
            " [ 0  0 15]]\n"
          ],
          "name": "stdout"
        },
        {
          "output_type": "display_data",
          "data": {
            "image/png": "[encoded data removed]",
            "text/plain": [
              "<Figure size 432x288 with 2 Axes>"
            ]
          },
          "metadata": {
            "tags": [],
            "needs_background": "light"
          }
        }
      ]
    },
    {
      "cell_type": "code",
      "metadata": {
        "id": "UqNrzR0qVnbX"
      },
      "source": [
        "#RBF Kernel\r\n",
        "svm_model_rbf = SVC(kernel = 'rbf', C = 1).fit(X_train, y_train) \r\n",
        "svm_predictions = svm_model_rbf.predict(X_test)"
      ],
      "execution_count": 97,
      "outputs": []
    },
    {
      "cell_type": "code",
      "metadata": {
        "colab": {
          "base_uri": "https://localhost:8080/"
        },
        "id": "qopDM8fGV4Pg",
        "outputId": "2fd3346a-b558-40fc-fd59-8c4000ef228f"
      },
      "source": [
        "print(classification_report(y_test, svm_predictions, target_names=target_names))"
      ],
      "execution_count": 98,
      "outputs": [
        {
          "output_type": "stream",
          "text": [
            "                 precision    recall  f1-score   support\n",
            "\n",
            "    Iris Setosa       1.00      1.00      1.00        16\n",
            "Iris Versicolor       1.00      0.95      0.97        19\n",
            " Iris Virginica       0.94      1.00      0.97        15\n",
            "\n",
            "       accuracy                           0.98        50\n",
            "      macro avg       0.98      0.98      0.98        50\n",
            "   weighted avg       0.98      0.98      0.98        50\n",
            "\n"
          ],
          "name": "stdout"
        }
      ]
    },
    {
      "cell_type": "code",
      "metadata": {
        "colab": {
          "base_uri": "https://localhost:8080/",
          "height": 431
        },
        "id": "4rgQIV9RV7hP",
        "outputId": "31c6ac40-e033-4dfa-e07b-4b7f075fd111"
      },
      "source": [
        "# creating a confusion matrix \r\n",
        "cm = confusion_matrix(y_test, svm_predictions)\r\n",
        "print(cm)\r\n",
        "plt.figure()\r\n",
        "plot_confusion_matrix(cm, classes=target_names,\r\n",
        "                      title='Confusion matrix, without normalization')\r\n",
        "plt.show()"
      ],
      "execution_count": 99,
      "outputs": [
        {
          "output_type": "stream",
          "text": [
            "[[16  0  0]\n",
            " [ 0 18  1]\n",
            " [ 0  0 15]]\n",
            "Confusion matrix, without normalization\n",
            "[[16  0  0]\n",
            " [ 0 18  1]\n",
            " [ 0  0 15]]\n"
          ],
          "name": "stdout"
        },
        {
          "output_type": "display_data",
          "data": {
            "image/png": "[encoded data removed]",
            "text/plain": [
              "<Figure size 432x288 with 2 Axes>"
            ]
          },
          "metadata": {
            "tags": [],
            "needs_background": "light"
          }
        }
      ]
    },
    {
      "cell_type": "code",
      "metadata": {
        "id": "omgUldcHWFlg"
      },
      "source": [
        "#Sigmoid Kernel\r\n",
        "svm_model_sigmoid = SVC(kernel = 'sigmoid', C = 1).fit(X_train, y_train) \r\n",
        "svm_predictions = svm_model_sigmoid.predict(X_test)"
      ],
      "execution_count": 101,
      "outputs": []
    },
    {
      "cell_type": "code",
      "metadata": {
        "colab": {
          "base_uri": "https://localhost:8080/"
        },
        "id": "Sf565DeNWJ_o",
        "outputId": "8653cba7-fa04-4ee2-c955-cea4b36b1078"
      },
      "source": [
        "print(classification_report(y_test, svm_predictions, target_names=target_names))"
      ],
      "execution_count": 102,
      "outputs": [
        {
          "output_type": "stream",
          "text": [
            "                 precision    recall  f1-score   support\n",
            "\n",
            "    Iris Setosa       0.00      0.00      0.00        16\n",
            "Iris Versicolor       0.00      0.00      0.00        19\n",
            " Iris Virginica       0.30      1.00      0.46        15\n",
            "\n",
            "       accuracy                           0.30        50\n",
            "      macro avg       0.10      0.33      0.15        50\n",
            "   weighted avg       0.09      0.30      0.14        50\n",
            "\n"
          ],
          "name": "stdout"
        },
        {
          "output_type": "stream",
          "text": [
            "/usr/local/lib/python3.7/dist-packages/sklearn/metrics/_classification.py:1272: UndefinedMetricWarning: Precision and F-score are ill-defined and being set to 0.0 in labels with no predicted samples. Use `zero_division` parameter to control this behavior.\n",
            "  _warn_prf(average, modifier, msg_start, len(result))\n"
          ],
          "name": "stderr"
        }
      ]
    },
    {
      "cell_type": "code",
      "metadata": {
        "colab": {
          "base_uri": "https://localhost:8080/",
          "height": 379
        },
        "id": "I5IrXb6HWY9W",
        "outputId": "cf1fe26a-0645-4bbf-d460-60074c7b7154"
      },
      "source": [
        "# creating a confusion matrix \r\n",
        "cm = confusion_matrix(y_test, svm_predictions)\r\n",
        "plt.figure()\r\n",
        "plot_confusion_matrix(cm, classes=target_names,\r\n",
        "                      title='Confusion matrix, without normalization')\r\n",
        "plt.show()"
      ],
      "execution_count": 103,
      "outputs": [
        {
          "output_type": "stream",
          "text": [
            "Confusion matrix, without normalization\n",
            "[[ 0  0 16]\n",
            " [ 0  0 19]\n",
            " [ 0  0 15]]\n"
          ],
          "name": "stdout"
        },
        {
          "output_type": "display_data",
          "data": {
            "image/png": "[encoded data removed]",
            "text/plain": [
              "<Figure size 432x288 with 2 Axes>"
            ]
          },
          "metadata": {
            "tags": [],
            "needs_background": "light"
          }
        }
      ]
    },
    {
      "cell_type": "markdown",
      "metadata": {
        "id": "iCZkWfcRWlkY"
      },
      "source": [
        "**KNN (k-nearest neighbours) classifier** \r\n",
        "– KNN or k-nearest neighbours is the simplest classification algorithm. \r\n",
        "- This classification algorithm does not depend on the structure of the data.\r\n",
        "- Whenever a new example is encountered, its k nearest neighbours from the training data are examined. \r\n",
        "- Distance between two examples can be the euclidean distance between their feature vectors. \r\n",
        "- The majority class among the k nearest neighbours is taken to be the class for the encountered example."
      ]
    },
    {
      "cell_type": "code",
      "metadata": {
        "id": "zQW2yOWxWxbn"
      },
      "source": [
        "# importing necessary libraries \r\n",
        "from sklearn import datasets \r\n",
        "from sklearn.metrics import confusion_matrix \r\n",
        "from sklearn.model_selection import train_test_split "
      ],
      "execution_count": null,
      "outputs": []
    },
    {
      "cell_type": "code",
      "metadata": {
        "id": "MJu0EYSjW2Qw"
      },
      "source": [
        "# loading the iris dataset \r\n",
        "iris = datasets.load_iris() "
      ],
      "execution_count": 104,
      "outputs": []
    },
    {
      "cell_type": "code",
      "metadata": {
        "id": "xv-Qe7r8W74_"
      },
      "source": [
        "# X -> features, y -> label \r\n",
        "X = iris.data \r\n",
        "y = iris.target"
      ],
      "execution_count": 105,
      "outputs": []
    },
    {
      "cell_type": "code",
      "metadata": {
        "id": "SE1R0JNVW9HQ"
      },
      "source": [
        "# dividing X, y into train and test data \r\n",
        "X_train, X_test, y_train, y_test = train_test_split(X, y,test_size=0.3, random_state = 0) "
      ],
      "execution_count": 106,
      "outputs": []
    },
    {
      "cell_type": "code",
      "metadata": {
        "id": "Mlhwp7V0XCXQ"
      },
      "source": [
        "# training a KNN classifier \r\n",
        "from sklearn.neighbors import KNeighborsClassifier \r\n",
        "knn = KNeighborsClassifier(n_neighbors = 7,metric='euclidean').fit(X_train, y_train) "
      ],
      "execution_count": 121,
      "outputs": []
    },
    {
      "cell_type": "code",
      "metadata": {
        "colab": {
          "base_uri": "https://localhost:8080/"
        },
        "id": "wGLDrvmSXFZI",
        "outputId": "8c612531-ca07-4e4e-cd49-cb2b1be05219"
      },
      "source": [
        "# accuracy on X_test \r\n",
        "accuracy = knn.score(X_test, y_test) \r\n",
        "print(accuracy)"
      ],
      "execution_count": 122,
      "outputs": [
        {
          "output_type": "stream",
          "text": [
            "0.9777777777777777\n"
          ],
          "name": "stdout"
        }
      ]
    },
    {
      "cell_type": "code",
      "metadata": {
        "id": "DaHFie8SXIuo"
      },
      "source": [
        " #Use KNN model on test data to get predictions\r\n",
        "knn_predictions = knn.predict(X_test)\r\n",
        "# creating a confusion matrix  \r\n",
        "cm = confusion_matrix(y_test, knn_predictions)"
      ],
      "execution_count": 123,
      "outputs": []
    },
    {
      "cell_type": "code",
      "metadata": {
        "colab": {
          "base_uri": "https://localhost:8080/"
        },
        "id": "5xoOcVq_XOTP",
        "outputId": "35ec275b-84a7-4330-cde3-21cd5a796dae"
      },
      "source": [
        "print(classification_report(y_test, knn_predictions, target_names=target_names))"
      ],
      "execution_count": 124,
      "outputs": [
        {
          "output_type": "stream",
          "text": [
            "                 precision    recall  f1-score   support\n",
            "\n",
            "    Iris Setosa       1.00      1.00      1.00        16\n",
            "Iris Versicolor       1.00      0.94      0.97        18\n",
            " Iris Virginica       0.92      1.00      0.96        11\n",
            "\n",
            "       accuracy                           0.98        45\n",
            "      macro avg       0.97      0.98      0.98        45\n",
            "   weighted avg       0.98      0.98      0.98        45\n",
            "\n"
          ],
          "name": "stdout"
        }
      ]
    },
    {
      "cell_type": "code",
      "metadata": {
        "colab": {
          "base_uri": "https://localhost:8080/",
          "height": 379
        },
        "id": "2Eys1TX1XSpY",
        "outputId": "a94da458-9fb7-47c8-e23b-cbab32453a24"
      },
      "source": [
        "plt.figure()\r\n",
        "plot_confusion_matrix(cm, classes=target_names,\r\n",
        "                      title='Confusion matrix, without normalization')\r\n",
        "plt.show()"
      ],
      "execution_count": 125,
      "outputs": [
        {
          "output_type": "stream",
          "text": [
            "Confusion matrix, without normalization\n",
            "[[16  0  0]\n",
            " [ 0 17  1]\n",
            " [ 0  0 11]]\n"
          ],
          "name": "stdout"
        },
        {
          "output_type": "display_data",
          "data": {
            "image/png": "[encoded data removed]",
            "text/plain": [
              "<Figure size 432x288 with 2 Axes>"
            ]
          },
          "metadata": {
            "tags": [],
            "needs_background": "light"
          }
        }
      ]
    },
    {
      "cell_type": "markdown",
      "metadata": {
        "id": "xmPEDCCYXjCg"
      },
      "source": [
        "**Naive Bayes classifier** \r\n",
        "- Naive Bayes classification method is based on Bayes’ theorem. \r\n",
        "- It is termed as ‘Naive’ because it assumes independence between every pair of feature in the data. \r\n",
        "- Let (x1, x2, …, xn) be a feature vector and y be the class label corresponding to this feature vector."
      ]
    },
    {
      "cell_type": "code",
      "metadata": {
        "id": "F68XMEJAXhk6"
      },
      "source": [
        "# importing necessary libraries \r\n",
        "from sklearn import datasets \r\n",
        "from sklearn.metrics import confusion_matrix \r\n",
        "from sklearn.model_selection import train_test_split "
      ],
      "execution_count": null,
      "outputs": []
    },
    {
      "cell_type": "code",
      "metadata": {
        "id": "IqYAnlt4Xvz0"
      },
      "source": [
        "# loading the iris dataset \r\n",
        "iris = datasets.load_iris() "
      ],
      "execution_count": null,
      "outputs": []
    },
    {
      "cell_type": "code",
      "metadata": {
        "id": "H6Lr3GrUXy7p"
      },
      "source": [
        "# X -> features, y -> label \r\n",
        "X = iris.data \r\n",
        "y = iris.target "
      ],
      "execution_count": null,
      "outputs": []
    },
    {
      "cell_type": "code",
      "metadata": {
        "id": "dIJdUt64X1vJ"
      },
      "source": [
        "# dividing X, y into train and test data \r\n",
        "X_train, X_test, y_train, y_test = train_test_split(X, y, random_state = 0) "
      ],
      "execution_count": null,
      "outputs": []
    },
    {
      "cell_type": "code",
      "metadata": {
        "id": "UiQEJ0P4X4xI"
      },
      "source": [
        "# training a Naive Bayes classifier \r\n",
        "from sklearn.naive_bayes import GaussianNB \r\n",
        "gnb = GaussianNB().fit(X_train, y_train) \r\n",
        "gnb_predictions = gnb.predict(X_test) "
      ],
      "execution_count": null,
      "outputs": []
    },
    {
      "cell_type": "code",
      "metadata": {
        "colab": {
          "base_uri": "https://localhost:8080/"
        },
        "id": "W_tpMNxrX5m5",
        "outputId": "d745e527-e113-41a7-e5ca-b4c483744aa8"
      },
      "source": [
        "# accuracy on X_test \r\n",
        "accuracy = gnb.score(X_test, y_test) \r\n",
        "print(accuracy)"
      ],
      "execution_count": null,
      "outputs": [
        {
          "output_type": "stream",
          "text": [
            "1.0\n"
          ],
          "name": "stdout"
        }
      ]
    },
    {
      "cell_type": "code",
      "metadata": {
        "id": "L5q1bAuaX-qg"
      },
      "source": [
        "# creating a confusion matrix \r\n",
        "cm = confusion_matrix(y_test, gnb_predictions) "
      ],
      "execution_count": null,
      "outputs": []
    },
    {
      "cell_type": "code",
      "metadata": {
        "colab": {
          "base_uri": "https://localhost:8080/"
        },
        "id": "lEHGDsbsYCxo",
        "outputId": "43e9ae9a-e224-45ad-f864-2767a2fbafc9"
      },
      "source": [
        "print(classification_report(y_test, gnb_predictions, target_names=target_names))"
      ],
      "execution_count": null,
      "outputs": [
        {
          "output_type": "stream",
          "text": [
            "                 precision    recall  f1-score   support\n",
            "\n",
            "    Iris Setosa       1.00      1.00      1.00        13\n",
            " Iris Virginica       1.00      1.00      1.00        16\n",
            "Iris Versicolor       1.00      1.00      1.00         9\n",
            "\n",
            "       accuracy                           1.00        38\n",
            "      macro avg       1.00      1.00      1.00        38\n",
            "   weighted avg       1.00      1.00      1.00        38\n",
            "\n"
          ],
          "name": "stdout"
        }
      ]
    },
    {
      "cell_type": "code",
      "metadata": {
        "colab": {
          "base_uri": "https://localhost:8080/",
          "height": 379
        },
        "id": "T5UAczldYGxQ",
        "outputId": "f96e776f-fd04-4e97-ee0b-2898787f1734"
      },
      "source": [
        "plt.figure()\r\n",
        "plot_confusion_matrix(cm, classes=target_names,\r\n",
        "                      title='Confusion matrix, without normalization')\r\n",
        "plt.show()"
      ],
      "execution_count": null,
      "outputs": [
        {
          "output_type": "stream",
          "text": [
            "Confusion matrix, without normalization\n",
            "[[13  0  0]\n",
            " [ 0 16  0]\n",
            " [ 0  0  9]]\n"
          ],
          "name": "stdout"
        },
        {
          "output_type": "display_data",
          "data": {
            "image/png": "[encoded data removed]",
            "text/plain": [
              "<Figure size 432x288 with 2 Axes>"
            ]
          },
          "metadata": {
            "tags": [],
            "needs_background": "light"
          }
        }
      ]
    },
    {
      "cell_type": "markdown",
      "metadata": {
        "id": "7sKWTxU1YOmp"
      },
      "source": [
        "**Lab Exercise**\r\n",
        "\r\n",
        "Perform classification of the heart disease from the given dataset and provide the best classification.\r\n",
        "File available at https://raw.githubusercontent.com/ferdinjoe/DSA206/main/cleveland.csv\r\n",
        "\r\n",
        "Attribute Information:\r\n",
        "\r\n",
        "Only 14 attributes used:\r\n",
        "1. #3 (age)\r\n",
        "2. #4 (sex)\r\n",
        "3. #9 (cp)\r\n",
        "4. #10 (trestbps)\r\n",
        "5. #12 (chol)\r\n",
        "6. #16 (fbs)\r\n",
        "7. #19 (restecg)\r\n",
        "8. #32 (thalach)\r\n",
        "9. #38 (exang)\r\n",
        "10. #40 (oldpeak)\r\n",
        "11. #41 (slope)\r\n",
        "12. #44 (ca)\r\n",
        "13. #51 (thal)\r\n",
        "14. #9 (label) (the predicted attribute)\r\n",
        "\r\n",
        "Complete attribute documentation:\r\n",
        "1. id: patient identification number\r\n",
        "2. ccf: social security number (I replaced this with a dummy value of 0)\r\n",
        "3. age: age in years\r\n",
        "4. sex: sex (1 = male; 0 = female)\r\n",
        "5. painloc: chest pain location (1 = substernal; 0 = otherwise)\r\n",
        "6. painexer (1 = provoked by exertion; 0 = otherwise)\r\n",
        "7. relrest (1 = relieved after rest; 0 = otherwise)\r\n",
        "8. pncaden (sum of 5, 6, and 7)\r\n",
        "9. cp: chest pain type\r\n",
        "- Value 1: typical angina\r\n",
        "- Value 2: atypical angina\r\n",
        "- Value 3: non-anginal pain\r\n",
        "- Value 4: asymptomatic\r\n",
        "10. trestbps: resting blood pressure (in mm Hg on admission to the hospital)\r\n",
        "11. htn\r\n",
        "12. chol: serum cholestoral in mg/dl\r\n",
        "13. smoke: I believe this is 1 = yes; 0 = no (is or is not a smoker)\r\n",
        "14. cigs (cigarettes per day)\r\n",
        "15. years (number of years as a smoker)\r\n",
        "16. fbs: (fasting blood sugar > 120 mg/dl) (1 = true; 0 = false)\r\n",
        "17. dm (1 = history of diabetes; 0 = no such history)\r\n",
        "18. famhist: family history of coronary artery disease (1 = yes; 0 = no)\r\n",
        "19. restecg: resting electrocardiographic results\r\n",
        "- Value 0: normal\r\n",
        "- Value 1: having ST-T wave abnormality (T wave inversions and/or ST elevation or depression of > 0.05 mV)\r\n",
        "- Value 2: showing probable or definite left ventricular hypertrophy by Estes' criteria\r\n",
        "20. ekgmo (month of exercise ECG reading)\r\n",
        "21. ekgday(day of exercise ECG reading)\r\n",
        "22. ekgyr (year of exercise ECG reading)\r\n",
        "23. dig (digitalis used furing exercise ECG: 1 = yes; 0 = no)\r\n",
        "24. prop (Beta blocker used during exercise ECG: 1 = yes; 0 = no)\r\n",
        "25. nitr (nitrates used during exercise ECG: 1 = yes; 0 = no)\r\n",
        "26. pro (calcium channel blocker used during exercise ECG: 1 = yes; 0 = no)\r\n",
        "27. diuretic (diuretic used used during exercise ECG: 1 = yes; 0 = no)\r\n",
        "28. proto: exercise protocol\r\n",
        "1 = Bruce\r\n",
        "2 = Kottus\r\n",
        "3 = McHenry\r\n",
        "4 = fast Balke\r\n",
        "5 = Balke\r\n",
        "6 = Noughton\r\n",
        "7 = bike 150 kpa min/min (Not sure if \"kpa min/min\" is what was written!)\r\n",
        "8 = bike 125 kpa min/min\r\n",
        "9 = bike 100 kpa min/min\r\n",
        "10 = bike 75 kpa min/min\r\n",
        "11 = bike 50 kpa min/min\r\n",
        "12 = arm ergometer\r\n",
        "29. thaldur: duration of exercise test in minutes\r\n",
        "30. thaltime: time when ST measure depression was noted\r\n",
        "31. met: mets achieved\r\n",
        "32. thalach: maximum heart rate achieved\r\n",
        "33. thalrest: resting heart rate\r\n",
        "34. tpeakbps: peak exercise blood pressure (first of 2 parts)\r\n",
        "35. tpeakbpd: peak exercise blood pressure (second of 2 parts)\r\n",
        "36. dummy\r\n",
        "37. trestbpd: resting blood pressure\r\n",
        "38. exang: exercise induced angina (1 = yes; 0 = no)\r\n",
        "39. xhypo: (1 = yes; 0 = no)\r\n",
        "40. oldpeak = ST depression induced by exercise relative to rest\r\n",
        "41. slope: the slope of the peak exercise ST segment\r\n",
        "-- Value 1: upsloping\r\n",
        "-- Value 2: flat\r\n",
        "-- Value 3: downsloping\r\n",
        "42. rldv5: height at rest\r\n",
        "43. rldv5e: height at peak exercise\r\n",
        "44. ca: number of major vessels (0-3) colored by flourosopy\r\n",
        "45. restckm: irrelevant\r\n",
        "46. exerckm: irrelevant\r\n",
        "47. restef: rest raidonuclid (sp?) ejection fraction\r\n",
        "48. restwm: rest wall (sp?) motion abnormality\r\n",
        "0 = none\r\n",
        "1 = mild or moderate\r\n",
        "2 = moderate or severe\r\n",
        "3 = akinesis or dyskmem (sp?)\r\n",
        "49. exeref: exercise radinalid (sp?) ejection fraction\r\n",
        "50. exerwm: exercise wall (sp?) motion\r\n",
        "51. thal: 3 = normal; 6 = fixed defect; 7 = reversable defect\r\n",
        "52. thalsev: not used\r\n",
        "53. thalpul: not used\r\n",
        "54. earlobe: not used\r\n",
        "55. cmo: month of cardiac cath (sp?) (perhaps \"call\")\r\n",
        "56. cday: day of cardiac cath (sp?)\r\n",
        "57. cyr: year of cardiac cath (sp?)\r\n",
        "58. num: diagnosis of heart disease (angiographic disease status)\r\n",
        "-- Value 0: < 50% diameter narrowing\r\n",
        "-- Value 1: > 50% diameter narrowing\r\n",
        "(in any major vessel: attributes 59 through 68 are vessels)\r\n",
        "59. lmt\r\n",
        "60. ladprox\r\n",
        "61. laddist\r\n",
        "62. diag\r\n",
        "63. cxmain\r\n",
        "64. ramus\r\n",
        "65. om1\r\n",
        "66. om2\r\n",
        "67. rcaprox\r\n",
        "68. rcadist\r\n",
        "69. lvx1: not used\r\n",
        "70. lvx2: not used\r\n",
        "71. lvx3: not used\r\n",
        "72. lvx4: not used\r\n",
        "73. lvf: not used\r\n",
        "74. cathef: not used\r\n",
        "75. junk: not used\r\n",
        "76. name: last name of patient (I replaced this with the dummy string \"name\")"
      ]
    }
  ]
}